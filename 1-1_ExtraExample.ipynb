{
  "nbformat": 4,
  "nbformat_minor": 0,
  "metadata": {
    "colab": {
      "provenance": []
    },
    "kernelspec": {
      "name": "python3",
      "display_name": "Python 3"
    },
    "language_info": {
      "name": "python"
    },
    "widgets": {
      "application/vnd.jupyter.widget-state+json": {
        "daff30bfece542cabfc6ca592aeee569": {
          "model_module": "@jupyter-widgets/controls",
          "model_name": "VBoxModel",
          "model_module_version": "1.5.0",
          "state": {
            "_dom_classes": [
              "widget-interact"
            ],
            "_model_module": "@jupyter-widgets/controls",
            "_model_module_version": "1.5.0",
            "_model_name": "VBoxModel",
            "_view_count": null,
            "_view_module": "@jupyter-widgets/controls",
            "_view_module_version": "1.5.0",
            "_view_name": "VBoxView",
            "box_style": "",
            "children": [
              "IPY_MODEL_08ca18c1f74143f484091afa79bdf508",
              "IPY_MODEL_337c2fb6ea75422cb3cacb94470209d1"
            ],
            "layout": "IPY_MODEL_528a2b9698fe46a4895c1b66bdb6458a"
          }
        },
        "08ca18c1f74143f484091afa79bdf508": {
          "model_module": "@jupyter-widgets/controls",
          "model_name": "TextModel",
          "model_module_version": "1.5.0",
          "state": {
            "_dom_classes": [],
            "_model_module": "@jupyter-widgets/controls",
            "_model_module_version": "1.5.0",
            "_model_name": "TextModel",
            "_view_count": null,
            "_view_module": "@jupyter-widgets/controls",
            "_view_module_version": "1.5.0",
            "_view_name": "TextView",
            "continuous_update": true,
            "description": "smi",
            "description_tooltip": null,
            "disabled": false,
            "layout": "IPY_MODEL_ca417fa1c04b49619ec3db4b014b42a7",
            "placeholder": "​",
            "style": "IPY_MODEL_21c04067f18e4d44947345e83856d8d0",
            "value": "CCCCC"
          }
        },
        "337c2fb6ea75422cb3cacb94470209d1": {
          "model_module": "@jupyter-widgets/output",
          "model_name": "OutputModel",
          "model_module_version": "1.0.0",
          "state": {
            "_dom_classes": [],
            "_model_module": "@jupyter-widgets/output",
            "_model_module_version": "1.0.0",
            "_model_name": "OutputModel",
            "_view_count": null,
            "_view_module": "@jupyter-widgets/output",
            "_view_module_version": "1.0.0",
            "_view_name": "OutputView",
            "layout": "IPY_MODEL_3254d2b9688e4f348d9e7e3a60f7a5af",
            "msg_id": "",
            "outputs": [
              {
                "output_type": "display_data",
                "data": {
                  "application/3dmoljs_load.v0": "<div id=\"3dmolviewer_16975293288250399\"  style=\"position: relative; width: 600px; height: 300px;\">\n        <p id=\"3dmolwarning_16975293288250399\" style=\"background-color:#ffcccc;color:black\">You appear to be running in JupyterLab (or JavaScript failed to load for some other reason).  You need to install the 3dmol extension: <br>\n        <tt>jupyter labextension install jupyterlab_3dmol</tt></p>\n        </div>\n<script>\n\nvar loadScriptAsync = function(uri){\n  return new Promise((resolve, reject) => {\n    //this is to ignore the existence of requirejs amd\n    var savedexports, savedmodule;\n    if (typeof exports !== 'undefined') savedexports = exports;\n    else exports = {}\n    if (typeof module !== 'undefined') savedmodule = module;\n    else module = {}\n\n    var tag = document.createElement('script');\n    tag.src = uri;\n    tag.async = true;\n    tag.onload = () => {\n        exports = savedexports;\n        module = savedmodule;\n        resolve();\n    };\n  var firstScriptTag = document.getElementsByTagName('script')[0];\n  firstScriptTag.parentNode.insertBefore(tag, firstScriptTag);\n});\n};\n\nif(typeof $3Dmolpromise === 'undefined') {\n$3Dmolpromise = null;\n  $3Dmolpromise = loadScriptAsync('https://cdnjs.cloudflare.com/ajax/libs/3Dmol/2.0.4/3Dmol-min.js');\n}\n\nvar viewer_16975293288250399 = null;\nvar warn = document.getElementById(\"3dmolwarning_16975293288250399\");\nif(warn) {\n    warn.parentNode.removeChild(warn);\n}\n$3Dmolpromise.then(function() {\nviewer_16975293288250399 = $3Dmol.createViewer(document.getElementById(\"3dmolviewer_16975293288250399\"),{backgroundColor:\"white\"});\nviewer_16975293288250399.zoomTo();\n\tviewer_16975293288250399.addModel(\"\\n     RDKit          3D\\n\\n 17 16  0  0  0  0  0  0  0  0999 V2000\\n    2.4995    0.4068   -0.0537 C   0  0  0  0  0  0  0  0  0  0  0  0\\n    1.2809   -0.4994    0.0193 C   0  0  0  0  0  0  0  0  0  0  0  0\\n   -0.0128    0.3086    0.1189 C   0  0  0  0  0  0  0  0  0  0  0  0\\n   -1.2352   -0.6060    0.1921 C   0  0  0  0  0  0  0  0  0  0  0  0\\n   -2.5243    0.1938    0.2912 C   0  0  0  0  0  0  0  0  0  0  0  0\\n    2.4516    1.0587   -0.9319 H   0  0  0  0  0  0  0  0  0  0  0  0\\n    2.5741    1.0367    0.8385 H   0  0  0  0  0  0  0  0  0  0  0  0\\n    3.4132   -0.1917   -0.1244 H   0  0  0  0  0  0  0  0  0  0  0  0\\n    1.2537   -1.1378   -0.8714 H   0  0  0  0  0  0  0  0  0  0  0  0\\n    1.3755   -1.1597    0.8892 H   0  0  0  0  0  0  0  0  0  0  0  0\\n    0.0212    0.9487    1.0090 H   0  0  0  0  0  0  0  0  0  0  0  0\\n   -0.1006    0.9705   -0.7513 H   0  0  0  0  0  0  0  0  0  0  0  0\\n   -1.2761   -1.2451   -0.6977 H   0  0  0  0  0  0  0  0  0  0  0  0\\n   -1.1543   -1.2669    1.0629 H   0  0  0  0  0  0  0  0  0  0  0  0\\n   -3.3854   -0.4799    0.3424 H   0  0  0  0  0  0  0  0  0  0  0  0\\n   -2.6518    0.8423   -0.5815 H   0  0  0  0  0  0  0  0  0  0  0  0\\n   -2.5293    0.8203    1.1889 H   0  0  0  0  0  0  0  0  0  0  0  0\\n  1  2  1  0\\n  2  3  1  0\\n  3  4  1  0\\n  4  5  1  0\\n  1  6  1  0\\n  1  7  1  0\\n  1  8  1  0\\n  2  9  1  0\\n  2 10  1  0\\n  3 11  1  0\\n  3 12  1  0\\n  4 13  1  0\\n  4 14  1  0\\n  5 15  1  0\\n  5 16  1  0\\n  5 17  1  0\\nM  END\\n\",\"mol\");\n\tviewer_16975293288250399.setStyle({\"stick\": {}});\n\tviewer_16975293288250399.zoomTo();\nviewer_16975293288250399.render();\n});\n</script>",
                  "text/html": "<div id=\"3dmolviewer_16975293288250399\"  style=\"position: relative; width: 600px; height: 300px;\">\n        <p id=\"3dmolwarning_16975293288250399\" style=\"background-color:#ffcccc;color:black\">You appear to be running in JupyterLab (or JavaScript failed to load for some other reason).  You need to install the 3dmol extension: <br>\n        <tt>jupyter labextension install jupyterlab_3dmol</tt></p>\n        </div>\n<script>\n\nvar loadScriptAsync = function(uri){\n  return new Promise((resolve, reject) => {\n    //this is to ignore the existence of requirejs amd\n    var savedexports, savedmodule;\n    if (typeof exports !== 'undefined') savedexports = exports;\n    else exports = {}\n    if (typeof module !== 'undefined') savedmodule = module;\n    else module = {}\n\n    var tag = document.createElement('script');\n    tag.src = uri;\n    tag.async = true;\n    tag.onload = () => {\n        exports = savedexports;\n        module = savedmodule;\n        resolve();\n    };\n  var firstScriptTag = document.getElementsByTagName('script')[0];\n  firstScriptTag.parentNode.insertBefore(tag, firstScriptTag);\n});\n};\n\nif(typeof $3Dmolpromise === 'undefined') {\n$3Dmolpromise = null;\n  $3Dmolpromise = loadScriptAsync('https://cdnjs.cloudflare.com/ajax/libs/3Dmol/2.0.4/3Dmol-min.js');\n}\n\nvar viewer_16975293288250399 = null;\nvar warn = document.getElementById(\"3dmolwarning_16975293288250399\");\nif(warn) {\n    warn.parentNode.removeChild(warn);\n}\n$3Dmolpromise.then(function() {\nviewer_16975293288250399 = $3Dmol.createViewer(document.getElementById(\"3dmolviewer_16975293288250399\"),{backgroundColor:\"white\"});\nviewer_16975293288250399.zoomTo();\n\tviewer_16975293288250399.addModel(\"\\n     RDKit          3D\\n\\n 17 16  0  0  0  0  0  0  0  0999 V2000\\n    2.4995    0.4068   -0.0537 C   0  0  0  0  0  0  0  0  0  0  0  0\\n    1.2809   -0.4994    0.0193 C   0  0  0  0  0  0  0  0  0  0  0  0\\n   -0.0128    0.3086    0.1189 C   0  0  0  0  0  0  0  0  0  0  0  0\\n   -1.2352   -0.6060    0.1921 C   0  0  0  0  0  0  0  0  0  0  0  0\\n   -2.5243    0.1938    0.2912 C   0  0  0  0  0  0  0  0  0  0  0  0\\n    2.4516    1.0587   -0.9319 H   0  0  0  0  0  0  0  0  0  0  0  0\\n    2.5741    1.0367    0.8385 H   0  0  0  0  0  0  0  0  0  0  0  0\\n    3.4132   -0.1917   -0.1244 H   0  0  0  0  0  0  0  0  0  0  0  0\\n    1.2537   -1.1378   -0.8714 H   0  0  0  0  0  0  0  0  0  0  0  0\\n    1.3755   -1.1597    0.8892 H   0  0  0  0  0  0  0  0  0  0  0  0\\n    0.0212    0.9487    1.0090 H   0  0  0  0  0  0  0  0  0  0  0  0\\n   -0.1006    0.9705   -0.7513 H   0  0  0  0  0  0  0  0  0  0  0  0\\n   -1.2761   -1.2451   -0.6977 H   0  0  0  0  0  0  0  0  0  0  0  0\\n   -1.1543   -1.2669    1.0629 H   0  0  0  0  0  0  0  0  0  0  0  0\\n   -3.3854   -0.4799    0.3424 H   0  0  0  0  0  0  0  0  0  0  0  0\\n   -2.6518    0.8423   -0.5815 H   0  0  0  0  0  0  0  0  0  0  0  0\\n   -2.5293    0.8203    1.1889 H   0  0  0  0  0  0  0  0  0  0  0  0\\n  1  2  1  0\\n  2  3  1  0\\n  3  4  1  0\\n  4  5  1  0\\n  1  6  1  0\\n  1  7  1  0\\n  1  8  1  0\\n  2  9  1  0\\n  2 10  1  0\\n  3 11  1  0\\n  3 12  1  0\\n  4 13  1  0\\n  4 14  1  0\\n  5 15  1  0\\n  5 16  1  0\\n  5 17  1  0\\nM  END\\n\",\"mol\");\n\tviewer_16975293288250399.setStyle({\"stick\": {}});\n\tviewer_16975293288250399.zoomTo();\nviewer_16975293288250399.render();\n});\n</script>"
                },
                "metadata": {}
              }
            ]
          }
        },
        "528a2b9698fe46a4895c1b66bdb6458a": {
          "model_module": "@jupyter-widgets/base",
          "model_name": "LayoutModel",
          "model_module_version": "1.2.0",
          "state": {
            "_model_module": "@jupyter-widgets/base",
            "_model_module_version": "1.2.0",
            "_model_name": "LayoutModel",
            "_view_count": null,
            "_view_module": "@jupyter-widgets/base",
            "_view_module_version": "1.2.0",
            "_view_name": "LayoutView",
            "align_content": null,
            "align_items": null,
            "align_self": null,
            "border": null,
            "bottom": null,
            "display": null,
            "flex": null,
            "flex_flow": null,
            "grid_area": null,
            "grid_auto_columns": null,
            "grid_auto_flow": null,
            "grid_auto_rows": null,
            "grid_column": null,
            "grid_gap": null,
            "grid_row": null,
            "grid_template_areas": null,
            "grid_template_columns": null,
            "grid_template_rows": null,
            "height": null,
            "justify_content": null,
            "justify_items": null,
            "left": null,
            "margin": null,
            "max_height": null,
            "max_width": null,
            "min_height": null,
            "min_width": null,
            "object_fit": null,
            "object_position": null,
            "order": null,
            "overflow": null,
            "overflow_x": null,
            "overflow_y": null,
            "padding": null,
            "right": null,
            "top": null,
            "visibility": null,
            "width": null
          }
        },
        "ca417fa1c04b49619ec3db4b014b42a7": {
          "model_module": "@jupyter-widgets/base",
          "model_name": "LayoutModel",
          "model_module_version": "1.2.0",
          "state": {
            "_model_module": "@jupyter-widgets/base",
            "_model_module_version": "1.2.0",
            "_model_name": "LayoutModel",
            "_view_count": null,
            "_view_module": "@jupyter-widgets/base",
            "_view_module_version": "1.2.0",
            "_view_name": "LayoutView",
            "align_content": null,
            "align_items": null,
            "align_self": null,
            "border": null,
            "bottom": null,
            "display": null,
            "flex": null,
            "flex_flow": null,
            "grid_area": null,
            "grid_auto_columns": null,
            "grid_auto_flow": null,
            "grid_auto_rows": null,
            "grid_column": null,
            "grid_gap": null,
            "grid_row": null,
            "grid_template_areas": null,
            "grid_template_columns": null,
            "grid_template_rows": null,
            "height": null,
            "justify_content": null,
            "justify_items": null,
            "left": null,
            "margin": null,
            "max_height": null,
            "max_width": null,
            "min_height": null,
            "min_width": null,
            "object_fit": null,
            "object_position": null,
            "order": null,
            "overflow": null,
            "overflow_x": null,
            "overflow_y": null,
            "padding": null,
            "right": null,
            "top": null,
            "visibility": null,
            "width": null
          }
        },
        "21c04067f18e4d44947345e83856d8d0": {
          "model_module": "@jupyter-widgets/controls",
          "model_name": "DescriptionStyleModel",
          "model_module_version": "1.5.0",
          "state": {
            "_model_module": "@jupyter-widgets/controls",
            "_model_module_version": "1.5.0",
            "_model_name": "DescriptionStyleModel",
            "_view_count": null,
            "_view_module": "@jupyter-widgets/base",
            "_view_module_version": "1.2.0",
            "_view_name": "StyleView",
            "description_width": ""
          }
        },
        "3254d2b9688e4f348d9e7e3a60f7a5af": {
          "model_module": "@jupyter-widgets/base",
          "model_name": "LayoutModel",
          "model_module_version": "1.2.0",
          "state": {
            "_model_module": "@jupyter-widgets/base",
            "_model_module_version": "1.2.0",
            "_model_name": "LayoutModel",
            "_view_count": null,
            "_view_module": "@jupyter-widgets/base",
            "_view_module_version": "1.2.0",
            "_view_name": "LayoutView",
            "align_content": null,
            "align_items": null,
            "align_self": null,
            "border": null,
            "bottom": null,
            "display": null,
            "flex": null,
            "flex_flow": null,
            "grid_area": null,
            "grid_auto_columns": null,
            "grid_auto_flow": null,
            "grid_auto_rows": null,
            "grid_column": null,
            "grid_gap": null,
            "grid_row": null,
            "grid_template_areas": null,
            "grid_template_columns": null,
            "grid_template_rows": null,
            "height": null,
            "justify_content": null,
            "justify_items": null,
            "left": null,
            "margin": null,
            "max_height": null,
            "max_width": null,
            "min_height": null,
            "min_width": null,
            "object_fit": null,
            "object_position": null,
            "order": null,
            "overflow": null,
            "overflow_x": null,
            "overflow_y": null,
            "padding": null,
            "right": null,
            "top": null,
            "visibility": null,
            "width": null
          }
        }
      }
    }
  },
  "cells": [
    {
      "cell_type": "markdown",
      "source": [
        "# py3Dmol\n",
        "3차원으로 여러 스타일의 분자를 표현할 수 있다."
      ],
      "metadata": {
        "id": "y2s796C6dtIy"
      }
    },
    {
      "cell_type": "code",
      "execution_count": 48,
      "metadata": {
        "colab": {
          "base_uri": "https://localhost:8080/"
        },
        "id": "e1nG2pNvbNsK",
        "outputId": "ff504599-a392-4cf0-e55a-bf76195f6d1d"
      },
      "outputs": [
        {
          "output_type": "stream",
          "name": "stdout",
          "text": [
            "Requirement already satisfied: py3Dmol in /usr/local/lib/python3.10/dist-packages (2.0.4)\n",
            "Requirement already satisfied: deepchem in /usr/local/lib/python3.10/dist-packages (2.7.1)\n",
            "Requirement already satisfied: rdkit in /usr/local/lib/python3.10/dist-packages (2023.3.3)\n",
            "Requirement already satisfied: joblib in /usr/local/lib/python3.10/dist-packages (from deepchem) (1.3.2)\n",
            "Requirement already satisfied: numpy>=1.21 in /usr/local/lib/python3.10/dist-packages (from deepchem) (1.23.5)\n",
            "Requirement already satisfied: pandas in /usr/local/lib/python3.10/dist-packages (from deepchem) (1.5.3)\n",
            "Requirement already satisfied: scikit-learn in /usr/local/lib/python3.10/dist-packages (from deepchem) (1.2.2)\n",
            "Requirement already satisfied: scipy<1.9 in /usr/local/lib/python3.10/dist-packages (from deepchem) (1.8.1)\n",
            "Requirement already satisfied: Pillow in /usr/local/lib/python3.10/dist-packages (from rdkit) (9.4.0)\n",
            "Requirement already satisfied: python-dateutil>=2.8.1 in /usr/local/lib/python3.10/dist-packages (from pandas->deepchem) (2.8.2)\n",
            "Requirement already satisfied: pytz>=2020.1 in /usr/local/lib/python3.10/dist-packages (from pandas->deepchem) (2023.3.post1)\n",
            "Requirement already satisfied: threadpoolctl>=2.0.0 in /usr/local/lib/python3.10/dist-packages (from scikit-learn->deepchem) (3.2.0)\n",
            "Requirement already satisfied: six>=1.5 in /usr/local/lib/python3.10/dist-packages (from python-dateutil>=2.8.1->pandas->deepchem) (1.16.0)\n"
          ]
        }
      ],
      "source": [
        "!pip install py3Dmol\n",
        "!pip install deepchem rdkit"
      ]
    },
    {
      "cell_type": "code",
      "source": [
        "import py3Dmol\n",
        "from rdkit import Chem\n",
        "from rdkit.Chem import AllChem\n",
        "\n",
        "\"\"\"\n",
        "분자를 3d로 표현할 viewer 객체를 반환한다.\n",
        "\n",
        "size - canvas 가로, 세로를 지정한다. tuple(int, int)\n",
        "style - 다음 중 ('line', 'stick', 'sphere') 하나만 가능하다.\n",
        "opacity - surface가 True라면 surface에 대한 불투명도를 지정한다. range 0.0 ~ 1.0\n",
        "\"\"\"\n",
        "def mol_to_3d_view(mol, size=(600, 300), style=\"stick\", surface=False, opacity=0.5):\n",
        "    assert style in ('line', 'stick', 'sphere')\n",
        "    mblock = Chem.MolToMolBlock(mol)\n",
        "    viewer = py3Dmol.view(width=size[0], height=size[1])\n",
        "    viewer.addModel(mblock, 'mol')\n",
        "    viewer.setStyle({style:{}})\n",
        "    if surface:\n",
        "        viewer.addSurface(py3Dmol.SAS, {'opacity': opacity})\n",
        "    viewer.zoomTo()\n",
        "    return viewer\n",
        "\n",
        "\n",
        "\"\"\"\"\n",
        "SMILES = Simplified Molecular Input Line Entry System\n",
        "\n",
        "SMILES 표현식(string)을 3차원 좌표계에 맞는 자료로 변환한다.\n",
        "\"\"\"\n",
        "def smi_to_conf(smiles):\n",
        "    mol = Chem.MolFromSmiles(smiles)\n",
        "    if mol is not None:\n",
        "        mol = Chem.AddHs(mol)\n",
        "        AllChem.EmbedMolecule(mol)\n",
        "        AllChem.MMFFOptimizeMolecule(mol, maxIters=200)\n",
        "        return mol\n",
        "    else:\n",
        "        return None"
      ],
      "metadata": {
        "id": "1P5tM896elOj"
      },
      "execution_count": 49,
      "outputs": []
    },
    {
      "cell_type": "markdown",
      "source": [
        "## viewer 사용 예시"
      ],
      "metadata": {
        "id": "yAADg_OKlpZR"
      }
    },
    {
      "cell_type": "code",
      "source": [
        "# smi = 'COc3nc(OCc2ccc(C#N)c(c1ccc(C(=O)O)cc1)c2P(=O)(O)O)ccc3C[NH2+]CC(I)NC(=O)C(F)(Cl)Br'\n",
        "smi = 'CC(NCCNCC1=CC=C(OCC2=C(C)C(C3=CC=CC=C3)=CC=C2)N=C1OC)=O'\n",
        "conf = smi_to_conf(smi)\n",
        "\n",
        "viewer = mol_to_3d_view(conf, size=(600, 300), style='sphere')\n",
        "viewer.show()\n",
        "viewer = mol_to_3d_view(conf, size=(600, 300), style='sphere', surface=True)\n",
        "viewer.show()\n",
        "viewer = mol_to_3d_view(conf, size=(600, 300), style='stick')\n",
        "viewer.show()\n",
        "viewer = mol_to_3d_view(conf, size=(600, 300), style='line')\n",
        "viewer.show()"
      ],
      "metadata": {
        "colab": {
          "base_uri": "https://localhost:8080/",
          "height": 1000
        },
        "id": "inLJJ5PhlofY",
        "outputId": "b57a4a6d-013c-4243-916b-a826d83b7209"
      },
      "execution_count": 50,
      "outputs": [
        {
          "output_type": "display_data",
          "data": {
            "application/3dmoljs_load.v0": "<div id=\"3dmolviewer_16975293242095737\"  style=\"position: relative; width: 600px; height: 300px;\">\n        <p id=\"3dmolwarning_16975293242095737\" style=\"background-color:#ffcccc;color:black\">You appear to be running in JupyterLab (or JavaScript failed to load for some other reason).  You need to install the 3dmol extension: <br>\n        <tt>jupyter labextension install jupyterlab_3dmol</tt></p>\n        </div>\n<script>\n\nvar loadScriptAsync = function(uri){\n  return new Promise((resolve, reject) => {\n    //this is to ignore the existence of requirejs amd\n    var savedexports, savedmodule;\n    if (typeof exports !== 'undefined') savedexports = exports;\n    else exports = {}\n    if (typeof module !== 'undefined') savedmodule = module;\n    else module = {}\n\n    var tag = document.createElement('script');\n    tag.src = uri;\n    tag.async = true;\n    tag.onload = () => {\n        exports = savedexports;\n        module = savedmodule;\n        resolve();\n    };\n  var firstScriptTag = document.getElementsByTagName('script')[0];\n  firstScriptTag.parentNode.insertBefore(tag, firstScriptTag);\n});\n};\n\nif(typeof $3Dmolpromise === 'undefined') {\n$3Dmolpromise = null;\n  $3Dmolpromise = loadScriptAsync('https://cdnjs.cloudflare.com/ajax/libs/3Dmol/2.0.4/3Dmol-min.js');\n}\n\nvar viewer_16975293242095737 = null;\nvar warn = document.getElementById(\"3dmolwarning_16975293242095737\");\nif(warn) {\n    warn.parentNode.removeChild(warn);\n}\n$3Dmolpromise.then(function() {\nviewer_16975293242095737 = $3Dmol.createViewer(document.getElementById(\"3dmolviewer_16975293242095737\"),{backgroundColor:\"white\"});\nviewer_16975293242095737.zoomTo();\n\tviewer_16975293242095737.addModel(\"\\n     RDKit          3D\\n\\n 60 62  0  0  0  0  0  0  0  0999 V2000\\n   -7.8359    1.6776   -2.1998 C   0  0  0  0  0  0  0  0  0  0  0  0\\n   -8.0014    0.4956   -1.2829 C   0  0  0  0  0  0  0  0  0  0  0  0\\n   -7.5253    0.6989   -0.0096 N   0  0  0  0  0  0  0  0  0  0  0  0\\n   -7.5586   -0.3503    0.9972 C   0  0  0  0  0  0  0  0  0  0  0  0\\n   -6.4738   -1.4201    0.7886 C   0  0  0  0  0  0  0  0  0  0  0  0\\n   -5.1400   -0.8065    0.6992 N   0  0  0  0  0  0  0  0  0  0  0  0\\n   -4.1085   -1.8359    0.5453 C   0  0  0  0  0  0  0  0  0  0  0  0\\n   -2.7461   -1.2182    0.3724 C   0  0  0  0  0  0  0  0  0  0  0  0\\n   -2.3488   -0.7284   -0.8790 C   0  0  0  0  0  0  0  0  0  0  0  0\\n   -1.0936   -0.1495   -1.0289 C   0  0  0  0  0  0  0  0  0  0  0  0\\n   -0.2711   -0.0732    0.0809 C   0  0  0  0  0  0  0  0  0  0  0  0\\n    0.9631    0.5104   -0.1167 O   0  0  0  0  0  0  0  0  0  0  0  0\\n    1.7492    0.5701    1.0718 C   0  0  0  0  0  0  0  0  0  0  0  0\\n    3.0715    1.2277    0.7268 C   0  0  0  0  0  0  0  0  0  0  0  0\\n    4.1526    0.5085    0.1543 C   0  0  0  0  0  0  0  0  0  0  0  0\\n    4.0156   -0.9705   -0.1273 C   0  0  0  0  0  0  0  0  0  0  0  0\\n    5.3756    1.1793   -0.1060 C   0  0  0  0  0  0  0  0  0  0  0  0\\n    6.5613    0.4909   -0.6395 C   0  0  0  0  0  0  0  0  0  0  0  0\\n    7.3740   -0.2916    0.1968 C   0  0  0  0  0  0  0  0  0  0  0  0\\n    8.5023   -0.9410   -0.3089 C   0  0  0  0  0  0  0  0  0  0  0  0\\n    8.8337   -0.8136   -1.6569 C   0  0  0  0  0  0  0  0  0  0  0  0\\n    8.0399   -0.0366   -2.4995 C   0  0  0  0  0  0  0  0  0  0  0  0\\n    6.9118    0.6130   -1.9935 C   0  0  0  0  0  0  0  0  0  0  0  0\\n    5.4709    2.5580    0.1593 C   0  0  0  0  0  0  0  0  0  0  0  0\\n    4.3946    3.2684    0.6819 C   0  0  0  0  0  0  0  0  0  0  0  0\\n    3.2048    2.6072    0.9643 C   0  0  0  0  0  0  0  0  0  0  0  0\\n   -0.6129   -0.5296    1.3018 N   0  0  0  0  0  0  0  0  0  0  0  0\\n   -1.8406   -1.0867    1.4260 C   0  0  0  0  0  0  0  0  0  0  0  0\\n   -2.2233   -1.5753    2.6598 O   0  0  0  0  0  0  0  0  0  0  0  0\\n   -1.2673   -1.3378    3.6881 C   0  0  0  0  0  0  0  0  0  0  0  0\\n   -8.5023   -0.5585   -1.6607 O   0  0  0  0  0  0  0  0  0  0  0  0\\n   -8.7729    1.8468   -2.7387 H   0  0  0  0  0  0  0  0  0  0  0  0\\n   -7.0327    1.4680   -2.9117 H   0  0  0  0  0  0  0  0  0  0  0  0\\n   -7.5918    2.5883   -1.6443 H   0  0  0  0  0  0  0  0  0  0  0  0\\n   -6.9770    1.5234    0.1983 H   0  0  0  0  0  0  0  0  0  0  0  0\\n   -8.5476   -0.8222    0.9798 H   0  0  0  0  0  0  0  0  0  0  0  0\\n   -7.4299    0.1378    1.9703 H   0  0  0  0  0  0  0  0  0  0  0  0\\n   -6.5130   -2.1236    1.6287 H   0  0  0  0  0  0  0  0  0  0  0  0\\n   -6.6827   -1.9798   -0.1304 H   0  0  0  0  0  0  0  0  0  0  0  0\\n   -5.1290   -0.2003   -0.1199 H   0  0  0  0  0  0  0  0  0  0  0  0\\n   -4.3190   -2.4591   -0.3341 H   0  0  0  0  0  0  0  0  0  0  0  0\\n   -4.1150   -2.5135    1.4075 H   0  0  0  0  0  0  0  0  0  0  0  0\\n   -3.0133   -0.7995   -1.7363 H   0  0  0  0  0  0  0  0  0  0  0  0\\n   -0.7627    0.2344   -1.9871 H   0  0  0  0  0  0  0  0  0  0  0  0\\n    1.2373    1.1658    1.8397 H   0  0  0  0  0  0  0  0  0  0  0  0\\n    1.9313   -0.4295    1.4867 H   0  0  0  0  0  0  0  0  0  0  0  0\\n    4.6779   -1.3019   -0.9334 H   0  0  0  0  0  0  0  0  0  0  0  0\\n    4.2458   -1.5436    0.7769 H   0  0  0  0  0  0  0  0  0  0  0  0\\n    3.0048   -1.2223   -0.4631 H   0  0  0  0  0  0  0  0  0  0  0  0\\n    7.1273   -0.3955    1.2517 H   0  0  0  0  0  0  0  0  0  0  0  0\\n    9.1217   -1.5444    0.3504 H   0  0  0  0  0  0  0  0  0  0  0  0\\n    9.7116   -1.3193   -2.0504 H   0  0  0  0  0  0  0  0  0  0  0  0\\n    8.2973    0.0642   -3.5508 H   0  0  0  0  0  0  0  0  0  0  0  0\\n    6.2977    1.2145   -2.6616 H   0  0  0  0  0  0  0  0  0  0  0  0\\n    6.4024    3.0847   -0.0416 H   0  0  0  0  0  0  0  0  0  0  0  0\\n    4.4872    4.3340    0.8749 H   0  0  0  0  0  0  0  0  0  0  0  0\\n    2.3719    3.1749    1.3752 H   0  0  0  0  0  0  0  0  0  0  0  0\\n   -1.6785   -1.7300    4.6229 H   0  0  0  0  0  0  0  0  0  0  0  0\\n   -1.0906   -0.2653    3.8282 H   0  0  0  0  0  0  0  0  0  0  0  0\\n   -0.3298   -1.8691    3.4881 H   0  0  0  0  0  0  0  0  0  0  0  0\\n  1  2  1  0\\n  2  3  1  0\\n  3  4  1  0\\n  4  5  1  0\\n  5  6  1  0\\n  6  7  1  0\\n  7  8  1  0\\n  8  9  2  0\\n  9 10  1  0\\n 10 11  2  0\\n 11 12  1  0\\n 12 13  1  0\\n 13 14  1  0\\n 14 15  2  0\\n 15 16  1  0\\n 15 17  1  0\\n 17 18  1  0\\n 18 19  2  0\\n 19 20  1  0\\n 20 21  2  0\\n 21 22  1  0\\n 22 23  2  0\\n 17 24  2  0\\n 24 25  1  0\\n 25 26  2  0\\n 11 27  1  0\\n 27 28  2  0\\n 28 29  1  0\\n 29 30  1  0\\n  2 31  2  0\\n 28  8  1  0\\n 26 14  1  0\\n 23 18  1  0\\n  1 32  1  0\\n  1 33  1  0\\n  1 34  1  0\\n  3 35  1  0\\n  4 36  1  0\\n  4 37  1  0\\n  5 38  1  0\\n  5 39  1  0\\n  6 40  1  0\\n  7 41  1  0\\n  7 42  1  0\\n  9 43  1  0\\n 10 44  1  0\\n 13 45  1  0\\n 13 46  1  0\\n 16 47  1  0\\n 16 48  1  0\\n 16 49  1  0\\n 19 50  1  0\\n 20 51  1  0\\n 21 52  1  0\\n 22 53  1  0\\n 23 54  1  0\\n 24 55  1  0\\n 25 56  1  0\\n 26 57  1  0\\n 30 58  1  0\\n 30 59  1  0\\n 30 60  1  0\\nM  END\\n\",\"mol\");\n\tviewer_16975293242095737.setStyle({\"sphere\": {}});\n\tviewer_16975293242095737.zoomTo();\nviewer_16975293242095737.render();\n});\n</script>",
            "text/html": [
              "<div id=\"3dmolviewer_16975293242095737\"  style=\"position: relative; width: 600px; height: 300px;\">\n",
              "        <p id=\"3dmolwarning_16975293242095737\" style=\"background-color:#ffcccc;color:black\">You appear to be running in JupyterLab (or JavaScript failed to load for some other reason).  You need to install the 3dmol extension: <br>\n",
              "        <tt>jupyter labextension install jupyterlab_3dmol</tt></p>\n",
              "        </div>\n",
              "<script>\n",
              "\n",
              "var loadScriptAsync = function(uri){\n",
              "  return new Promise((resolve, reject) => {\n",
              "    //this is to ignore the existence of requirejs amd\n",
              "    var savedexports, savedmodule;\n",
              "    if (typeof exports !== 'undefined') savedexports = exports;\n",
              "    else exports = {}\n",
              "    if (typeof module !== 'undefined') savedmodule = module;\n",
              "    else module = {}\n",
              "\n",
              "    var tag = document.createElement('script');\n",
              "    tag.src = uri;\n",
              "    tag.async = true;\n",
              "    tag.onload = () => {\n",
              "        exports = savedexports;\n",
              "        module = savedmodule;\n",
              "        resolve();\n",
              "    };\n",
              "  var firstScriptTag = document.getElementsByTagName('script')[0];\n",
              "  firstScriptTag.parentNode.insertBefore(tag, firstScriptTag);\n",
              "});\n",
              "};\n",
              "\n",
              "if(typeof $3Dmolpromise === 'undefined') {\n",
              "$3Dmolpromise = null;\n",
              "  $3Dmolpromise = loadScriptAsync('https://cdnjs.cloudflare.com/ajax/libs/3Dmol/2.0.4/3Dmol-min.js');\n",
              "}\n",
              "\n",
              "var viewer_16975293242095737 = null;\n",
              "var warn = document.getElementById(\"3dmolwarning_16975293242095737\");\n",
              "if(warn) {\n",
              "    warn.parentNode.removeChild(warn);\n",
              "}\n",
              "$3Dmolpromise.then(function() {\n",
              "viewer_16975293242095737 = $3Dmol.createViewer(document.getElementById(\"3dmolviewer_16975293242095737\"),{backgroundColor:\"white\"});\n",
              "viewer_16975293242095737.zoomTo();\n",
              "\tviewer_16975293242095737.addModel(\"\\n     RDKit          3D\\n\\n 60 62  0  0  0  0  0  0  0  0999 V2000\\n   -7.8359    1.6776   -2.1998 C   0  0  0  0  0  0  0  0  0  0  0  0\\n   -8.0014    0.4956   -1.2829 C   0  0  0  0  0  0  0  0  0  0  0  0\\n   -7.5253    0.6989   -0.0096 N   0  0  0  0  0  0  0  0  0  0  0  0\\n   -7.5586   -0.3503    0.9972 C   0  0  0  0  0  0  0  0  0  0  0  0\\n   -6.4738   -1.4201    0.7886 C   0  0  0  0  0  0  0  0  0  0  0  0\\n   -5.1400   -0.8065    0.6992 N   0  0  0  0  0  0  0  0  0  0  0  0\\n   -4.1085   -1.8359    0.5453 C   0  0  0  0  0  0  0  0  0  0  0  0\\n   -2.7461   -1.2182    0.3724 C   0  0  0  0  0  0  0  0  0  0  0  0\\n   -2.3488   -0.7284   -0.8790 C   0  0  0  0  0  0  0  0  0  0  0  0\\n   -1.0936   -0.1495   -1.0289 C   0  0  0  0  0  0  0  0  0  0  0  0\\n   -0.2711   -0.0732    0.0809 C   0  0  0  0  0  0  0  0  0  0  0  0\\n    0.9631    0.5104   -0.1167 O   0  0  0  0  0  0  0  0  0  0  0  0\\n    1.7492    0.5701    1.0718 C   0  0  0  0  0  0  0  0  0  0  0  0\\n    3.0715    1.2277    0.7268 C   0  0  0  0  0  0  0  0  0  0  0  0\\n    4.1526    0.5085    0.1543 C   0  0  0  0  0  0  0  0  0  0  0  0\\n    4.0156   -0.9705   -0.1273 C   0  0  0  0  0  0  0  0  0  0  0  0\\n    5.3756    1.1793   -0.1060 C   0  0  0  0  0  0  0  0  0  0  0  0\\n    6.5613    0.4909   -0.6395 C   0  0  0  0  0  0  0  0  0  0  0  0\\n    7.3740   -0.2916    0.1968 C   0  0  0  0  0  0  0  0  0  0  0  0\\n    8.5023   -0.9410   -0.3089 C   0  0  0  0  0  0  0  0  0  0  0  0\\n    8.8337   -0.8136   -1.6569 C   0  0  0  0  0  0  0  0  0  0  0  0\\n    8.0399   -0.0366   -2.4995 C   0  0  0  0  0  0  0  0  0  0  0  0\\n    6.9118    0.6130   -1.9935 C   0  0  0  0  0  0  0  0  0  0  0  0\\n    5.4709    2.5580    0.1593 C   0  0  0  0  0  0  0  0  0  0  0  0\\n    4.3946    3.2684    0.6819 C   0  0  0  0  0  0  0  0  0  0  0  0\\n    3.2048    2.6072    0.9643 C   0  0  0  0  0  0  0  0  0  0  0  0\\n   -0.6129   -0.5296    1.3018 N   0  0  0  0  0  0  0  0  0  0  0  0\\n   -1.8406   -1.0867    1.4260 C   0  0  0  0  0  0  0  0  0  0  0  0\\n   -2.2233   -1.5753    2.6598 O   0  0  0  0  0  0  0  0  0  0  0  0\\n   -1.2673   -1.3378    3.6881 C   0  0  0  0  0  0  0  0  0  0  0  0\\n   -8.5023   -0.5585   -1.6607 O   0  0  0  0  0  0  0  0  0  0  0  0\\n   -8.7729    1.8468   -2.7387 H   0  0  0  0  0  0  0  0  0  0  0  0\\n   -7.0327    1.4680   -2.9117 H   0  0  0  0  0  0  0  0  0  0  0  0\\n   -7.5918    2.5883   -1.6443 H   0  0  0  0  0  0  0  0  0  0  0  0\\n   -6.9770    1.5234    0.1983 H   0  0  0  0  0  0  0  0  0  0  0  0\\n   -8.5476   -0.8222    0.9798 H   0  0  0  0  0  0  0  0  0  0  0  0\\n   -7.4299    0.1378    1.9703 H   0  0  0  0  0  0  0  0  0  0  0  0\\n   -6.5130   -2.1236    1.6287 H   0  0  0  0  0  0  0  0  0  0  0  0\\n   -6.6827   -1.9798   -0.1304 H   0  0  0  0  0  0  0  0  0  0  0  0\\n   -5.1290   -0.2003   -0.1199 H   0  0  0  0  0  0  0  0  0  0  0  0\\n   -4.3190   -2.4591   -0.3341 H   0  0  0  0  0  0  0  0  0  0  0  0\\n   -4.1150   -2.5135    1.4075 H   0  0  0  0  0  0  0  0  0  0  0  0\\n   -3.0133   -0.7995   -1.7363 H   0  0  0  0  0  0  0  0  0  0  0  0\\n   -0.7627    0.2344   -1.9871 H   0  0  0  0  0  0  0  0  0  0  0  0\\n    1.2373    1.1658    1.8397 H   0  0  0  0  0  0  0  0  0  0  0  0\\n    1.9313   -0.4295    1.4867 H   0  0  0  0  0  0  0  0  0  0  0  0\\n    4.6779   -1.3019   -0.9334 H   0  0  0  0  0  0  0  0  0  0  0  0\\n    4.2458   -1.5436    0.7769 H   0  0  0  0  0  0  0  0  0  0  0  0\\n    3.0048   -1.2223   -0.4631 H   0  0  0  0  0  0  0  0  0  0  0  0\\n    7.1273   -0.3955    1.2517 H   0  0  0  0  0  0  0  0  0  0  0  0\\n    9.1217   -1.5444    0.3504 H   0  0  0  0  0  0  0  0  0  0  0  0\\n    9.7116   -1.3193   -2.0504 H   0  0  0  0  0  0  0  0  0  0  0  0\\n    8.2973    0.0642   -3.5508 H   0  0  0  0  0  0  0  0  0  0  0  0\\n    6.2977    1.2145   -2.6616 H   0  0  0  0  0  0  0  0  0  0  0  0\\n    6.4024    3.0847   -0.0416 H   0  0  0  0  0  0  0  0  0  0  0  0\\n    4.4872    4.3340    0.8749 H   0  0  0  0  0  0  0  0  0  0  0  0\\n    2.3719    3.1749    1.3752 H   0  0  0  0  0  0  0  0  0  0  0  0\\n   -1.6785   -1.7300    4.6229 H   0  0  0  0  0  0  0  0  0  0  0  0\\n   -1.0906   -0.2653    3.8282 H   0  0  0  0  0  0  0  0  0  0  0  0\\n   -0.3298   -1.8691    3.4881 H   0  0  0  0  0  0  0  0  0  0  0  0\\n  1  2  1  0\\n  2  3  1  0\\n  3  4  1  0\\n  4  5  1  0\\n  5  6  1  0\\n  6  7  1  0\\n  7  8  1  0\\n  8  9  2  0\\n  9 10  1  0\\n 10 11  2  0\\n 11 12  1  0\\n 12 13  1  0\\n 13 14  1  0\\n 14 15  2  0\\n 15 16  1  0\\n 15 17  1  0\\n 17 18  1  0\\n 18 19  2  0\\n 19 20  1  0\\n 20 21  2  0\\n 21 22  1  0\\n 22 23  2  0\\n 17 24  2  0\\n 24 25  1  0\\n 25 26  2  0\\n 11 27  1  0\\n 27 28  2  0\\n 28 29  1  0\\n 29 30  1  0\\n  2 31  2  0\\n 28  8  1  0\\n 26 14  1  0\\n 23 18  1  0\\n  1 32  1  0\\n  1 33  1  0\\n  1 34  1  0\\n  3 35  1  0\\n  4 36  1  0\\n  4 37  1  0\\n  5 38  1  0\\n  5 39  1  0\\n  6 40  1  0\\n  7 41  1  0\\n  7 42  1  0\\n  9 43  1  0\\n 10 44  1  0\\n 13 45  1  0\\n 13 46  1  0\\n 16 47  1  0\\n 16 48  1  0\\n 16 49  1  0\\n 19 50  1  0\\n 20 51  1  0\\n 21 52  1  0\\n 22 53  1  0\\n 23 54  1  0\\n 24 55  1  0\\n 25 56  1  0\\n 26 57  1  0\\n 30 58  1  0\\n 30 59  1  0\\n 30 60  1  0\\nM  END\\n\",\"mol\");\n",
              "\tviewer_16975293242095737.setStyle({\"sphere\": {}});\n",
              "\tviewer_16975293242095737.zoomTo();\n",
              "viewer_16975293242095737.render();\n",
              "});\n",
              "</script>"
            ]
          },
          "metadata": {}
        },
        {
          "output_type": "display_data",
          "data": {
            "application/3dmoljs_load.v0": "<div id=\"3dmolviewer_16975293242126029\"  style=\"position: relative; width: 600px; height: 300px;\">\n        <p id=\"3dmolwarning_16975293242126029\" style=\"background-color:#ffcccc;color:black\">You appear to be running in JupyterLab (or JavaScript failed to load for some other reason).  You need to install the 3dmol extension: <br>\n        <tt>jupyter labextension install jupyterlab_3dmol</tt></p>\n        </div>\n<script>\n\nvar loadScriptAsync = function(uri){\n  return new Promise((resolve, reject) => {\n    //this is to ignore the existence of requirejs amd\n    var savedexports, savedmodule;\n    if (typeof exports !== 'undefined') savedexports = exports;\n    else exports = {}\n    if (typeof module !== 'undefined') savedmodule = module;\n    else module = {}\n\n    var tag = document.createElement('script');\n    tag.src = uri;\n    tag.async = true;\n    tag.onload = () => {\n        exports = savedexports;\n        module = savedmodule;\n        resolve();\n    };\n  var firstScriptTag = document.getElementsByTagName('script')[0];\n  firstScriptTag.parentNode.insertBefore(tag, firstScriptTag);\n});\n};\n\nif(typeof $3Dmolpromise === 'undefined') {\n$3Dmolpromise = null;\n  $3Dmolpromise = loadScriptAsync('https://cdnjs.cloudflare.com/ajax/libs/3Dmol/2.0.4/3Dmol-min.js');\n}\n\nvar viewer_16975293242126029 = null;\nvar warn = document.getElementById(\"3dmolwarning_16975293242126029\");\nif(warn) {\n    warn.parentNode.removeChild(warn);\n}\n$3Dmolpromise.then(function() {\nviewer_16975293242126029 = $3Dmol.createViewer(document.getElementById(\"3dmolviewer_16975293242126029\"),{backgroundColor:\"white\"});\nviewer_16975293242126029.zoomTo();\n\tviewer_16975293242126029.addModel(\"\\n     RDKit          3D\\n\\n 60 62  0  0  0  0  0  0  0  0999 V2000\\n   -7.8359    1.6776   -2.1998 C   0  0  0  0  0  0  0  0  0  0  0  0\\n   -8.0014    0.4956   -1.2829 C   0  0  0  0  0  0  0  0  0  0  0  0\\n   -7.5253    0.6989   -0.0096 N   0  0  0  0  0  0  0  0  0  0  0  0\\n   -7.5586   -0.3503    0.9972 C   0  0  0  0  0  0  0  0  0  0  0  0\\n   -6.4738   -1.4201    0.7886 C   0  0  0  0  0  0  0  0  0  0  0  0\\n   -5.1400   -0.8065    0.6992 N   0  0  0  0  0  0  0  0  0  0  0  0\\n   -4.1085   -1.8359    0.5453 C   0  0  0  0  0  0  0  0  0  0  0  0\\n   -2.7461   -1.2182    0.3724 C   0  0  0  0  0  0  0  0  0  0  0  0\\n   -2.3488   -0.7284   -0.8790 C   0  0  0  0  0  0  0  0  0  0  0  0\\n   -1.0936   -0.1495   -1.0289 C   0  0  0  0  0  0  0  0  0  0  0  0\\n   -0.2711   -0.0732    0.0809 C   0  0  0  0  0  0  0  0  0  0  0  0\\n    0.9631    0.5104   -0.1167 O   0  0  0  0  0  0  0  0  0  0  0  0\\n    1.7492    0.5701    1.0718 C   0  0  0  0  0  0  0  0  0  0  0  0\\n    3.0715    1.2277    0.7268 C   0  0  0  0  0  0  0  0  0  0  0  0\\n    4.1526    0.5085    0.1543 C   0  0  0  0  0  0  0  0  0  0  0  0\\n    4.0156   -0.9705   -0.1273 C   0  0  0  0  0  0  0  0  0  0  0  0\\n    5.3756    1.1793   -0.1060 C   0  0  0  0  0  0  0  0  0  0  0  0\\n    6.5613    0.4909   -0.6395 C   0  0  0  0  0  0  0  0  0  0  0  0\\n    7.3740   -0.2916    0.1968 C   0  0  0  0  0  0  0  0  0  0  0  0\\n    8.5023   -0.9410   -0.3089 C   0  0  0  0  0  0  0  0  0  0  0  0\\n    8.8337   -0.8136   -1.6569 C   0  0  0  0  0  0  0  0  0  0  0  0\\n    8.0399   -0.0366   -2.4995 C   0  0  0  0  0  0  0  0  0  0  0  0\\n    6.9118    0.6130   -1.9935 C   0  0  0  0  0  0  0  0  0  0  0  0\\n    5.4709    2.5580    0.1593 C   0  0  0  0  0  0  0  0  0  0  0  0\\n    4.3946    3.2684    0.6819 C   0  0  0  0  0  0  0  0  0  0  0  0\\n    3.2048    2.6072    0.9643 C   0  0  0  0  0  0  0  0  0  0  0  0\\n   -0.6129   -0.5296    1.3018 N   0  0  0  0  0  0  0  0  0  0  0  0\\n   -1.8406   -1.0867    1.4260 C   0  0  0  0  0  0  0  0  0  0  0  0\\n   -2.2233   -1.5753    2.6598 O   0  0  0  0  0  0  0  0  0  0  0  0\\n   -1.2673   -1.3378    3.6881 C   0  0  0  0  0  0  0  0  0  0  0  0\\n   -8.5023   -0.5585   -1.6607 O   0  0  0  0  0  0  0  0  0  0  0  0\\n   -8.7729    1.8468   -2.7387 H   0  0  0  0  0  0  0  0  0  0  0  0\\n   -7.0327    1.4680   -2.9117 H   0  0  0  0  0  0  0  0  0  0  0  0\\n   -7.5918    2.5883   -1.6443 H   0  0  0  0  0  0  0  0  0  0  0  0\\n   -6.9770    1.5234    0.1983 H   0  0  0  0  0  0  0  0  0  0  0  0\\n   -8.5476   -0.8222    0.9798 H   0  0  0  0  0  0  0  0  0  0  0  0\\n   -7.4299    0.1378    1.9703 H   0  0  0  0  0  0  0  0  0  0  0  0\\n   -6.5130   -2.1236    1.6287 H   0  0  0  0  0  0  0  0  0  0  0  0\\n   -6.6827   -1.9798   -0.1304 H   0  0  0  0  0  0  0  0  0  0  0  0\\n   -5.1290   -0.2003   -0.1199 H   0  0  0  0  0  0  0  0  0  0  0  0\\n   -4.3190   -2.4591   -0.3341 H   0  0  0  0  0  0  0  0  0  0  0  0\\n   -4.1150   -2.5135    1.4075 H   0  0  0  0  0  0  0  0  0  0  0  0\\n   -3.0133   -0.7995   -1.7363 H   0  0  0  0  0  0  0  0  0  0  0  0\\n   -0.7627    0.2344   -1.9871 H   0  0  0  0  0  0  0  0  0  0  0  0\\n    1.2373    1.1658    1.8397 H   0  0  0  0  0  0  0  0  0  0  0  0\\n    1.9313   -0.4295    1.4867 H   0  0  0  0  0  0  0  0  0  0  0  0\\n    4.6779   -1.3019   -0.9334 H   0  0  0  0  0  0  0  0  0  0  0  0\\n    4.2458   -1.5436    0.7769 H   0  0  0  0  0  0  0  0  0  0  0  0\\n    3.0048   -1.2223   -0.4631 H   0  0  0  0  0  0  0  0  0  0  0  0\\n    7.1273   -0.3955    1.2517 H   0  0  0  0  0  0  0  0  0  0  0  0\\n    9.1217   -1.5444    0.3504 H   0  0  0  0  0  0  0  0  0  0  0  0\\n    9.7116   -1.3193   -2.0504 H   0  0  0  0  0  0  0  0  0  0  0  0\\n    8.2973    0.0642   -3.5508 H   0  0  0  0  0  0  0  0  0  0  0  0\\n    6.2977    1.2145   -2.6616 H   0  0  0  0  0  0  0  0  0  0  0  0\\n    6.4024    3.0847   -0.0416 H   0  0  0  0  0  0  0  0  0  0  0  0\\n    4.4872    4.3340    0.8749 H   0  0  0  0  0  0  0  0  0  0  0  0\\n    2.3719    3.1749    1.3752 H   0  0  0  0  0  0  0  0  0  0  0  0\\n   -1.6785   -1.7300    4.6229 H   0  0  0  0  0  0  0  0  0  0  0  0\\n   -1.0906   -0.2653    3.8282 H   0  0  0  0  0  0  0  0  0  0  0  0\\n   -0.3298   -1.8691    3.4881 H   0  0  0  0  0  0  0  0  0  0  0  0\\n  1  2  1  0\\n  2  3  1  0\\n  3  4  1  0\\n  4  5  1  0\\n  5  6  1  0\\n  6  7  1  0\\n  7  8  1  0\\n  8  9  2  0\\n  9 10  1  0\\n 10 11  2  0\\n 11 12  1  0\\n 12 13  1  0\\n 13 14  1  0\\n 14 15  2  0\\n 15 16  1  0\\n 15 17  1  0\\n 17 18  1  0\\n 18 19  2  0\\n 19 20  1  0\\n 20 21  2  0\\n 21 22  1  0\\n 22 23  2  0\\n 17 24  2  0\\n 24 25  1  0\\n 25 26  2  0\\n 11 27  1  0\\n 27 28  2  0\\n 28 29  1  0\\n 29 30  1  0\\n  2 31  2  0\\n 28  8  1  0\\n 26 14  1  0\\n 23 18  1  0\\n  1 32  1  0\\n  1 33  1  0\\n  1 34  1  0\\n  3 35  1  0\\n  4 36  1  0\\n  4 37  1  0\\n  5 38  1  0\\n  5 39  1  0\\n  6 40  1  0\\n  7 41  1  0\\n  7 42  1  0\\n  9 43  1  0\\n 10 44  1  0\\n 13 45  1  0\\n 13 46  1  0\\n 16 47  1  0\\n 16 48  1  0\\n 16 49  1  0\\n 19 50  1  0\\n 20 51  1  0\\n 21 52  1  0\\n 22 53  1  0\\n 23 54  1  0\\n 24 55  1  0\\n 25 56  1  0\\n 26 57  1  0\\n 30 58  1  0\\n 30 59  1  0\\n 30 60  1  0\\nM  END\\n\",\"mol\");\n\tviewer_16975293242126029.setStyle({\"sphere\": {}});\n\tviewer_16975293242126029.addSurface(3,{\"opacity\": 0.5});\n\tviewer_16975293242126029.zoomTo();\nviewer_16975293242126029.render();\n});\n</script>",
            "text/html": [
              "<div id=\"3dmolviewer_16975293242126029\"  style=\"position: relative; width: 600px; height: 300px;\">\n",
              "        <p id=\"3dmolwarning_16975293242126029\" style=\"background-color:#ffcccc;color:black\">You appear to be running in JupyterLab (or JavaScript failed to load for some other reason).  You need to install the 3dmol extension: <br>\n",
              "        <tt>jupyter labextension install jupyterlab_3dmol</tt></p>\n",
              "        </div>\n",
              "<script>\n",
              "\n",
              "var loadScriptAsync = function(uri){\n",
              "  return new Promise((resolve, reject) => {\n",
              "    //this is to ignore the existence of requirejs amd\n",
              "    var savedexports, savedmodule;\n",
              "    if (typeof exports !== 'undefined') savedexports = exports;\n",
              "    else exports = {}\n",
              "    if (typeof module !== 'undefined') savedmodule = module;\n",
              "    else module = {}\n",
              "\n",
              "    var tag = document.createElement('script');\n",
              "    tag.src = uri;\n",
              "    tag.async = true;\n",
              "    tag.onload = () => {\n",
              "        exports = savedexports;\n",
              "        module = savedmodule;\n",
              "        resolve();\n",
              "    };\n",
              "  var firstScriptTag = document.getElementsByTagName('script')[0];\n",
              "  firstScriptTag.parentNode.insertBefore(tag, firstScriptTag);\n",
              "});\n",
              "};\n",
              "\n",
              "if(typeof $3Dmolpromise === 'undefined') {\n",
              "$3Dmolpromise = null;\n",
              "  $3Dmolpromise = loadScriptAsync('https://cdnjs.cloudflare.com/ajax/libs/3Dmol/2.0.4/3Dmol-min.js');\n",
              "}\n",
              "\n",
              "var viewer_16975293242126029 = null;\n",
              "var warn = document.getElementById(\"3dmolwarning_16975293242126029\");\n",
              "if(warn) {\n",
              "    warn.parentNode.removeChild(warn);\n",
              "}\n",
              "$3Dmolpromise.then(function() {\n",
              "viewer_16975293242126029 = $3Dmol.createViewer(document.getElementById(\"3dmolviewer_16975293242126029\"),{backgroundColor:\"white\"});\n",
              "viewer_16975293242126029.zoomTo();\n",
              "\tviewer_16975293242126029.addModel(\"\\n     RDKit          3D\\n\\n 60 62  0  0  0  0  0  0  0  0999 V2000\\n   -7.8359    1.6776   -2.1998 C   0  0  0  0  0  0  0  0  0  0  0  0\\n   -8.0014    0.4956   -1.2829 C   0  0  0  0  0  0  0  0  0  0  0  0\\n   -7.5253    0.6989   -0.0096 N   0  0  0  0  0  0  0  0  0  0  0  0\\n   -7.5586   -0.3503    0.9972 C   0  0  0  0  0  0  0  0  0  0  0  0\\n   -6.4738   -1.4201    0.7886 C   0  0  0  0  0  0  0  0  0  0  0  0\\n   -5.1400   -0.8065    0.6992 N   0  0  0  0  0  0  0  0  0  0  0  0\\n   -4.1085   -1.8359    0.5453 C   0  0  0  0  0  0  0  0  0  0  0  0\\n   -2.7461   -1.2182    0.3724 C   0  0  0  0  0  0  0  0  0  0  0  0\\n   -2.3488   -0.7284   -0.8790 C   0  0  0  0  0  0  0  0  0  0  0  0\\n   -1.0936   -0.1495   -1.0289 C   0  0  0  0  0  0  0  0  0  0  0  0\\n   -0.2711   -0.0732    0.0809 C   0  0  0  0  0  0  0  0  0  0  0  0\\n    0.9631    0.5104   -0.1167 O   0  0  0  0  0  0  0  0  0  0  0  0\\n    1.7492    0.5701    1.0718 C   0  0  0  0  0  0  0  0  0  0  0  0\\n    3.0715    1.2277    0.7268 C   0  0  0  0  0  0  0  0  0  0  0  0\\n    4.1526    0.5085    0.1543 C   0  0  0  0  0  0  0  0  0  0  0  0\\n    4.0156   -0.9705   -0.1273 C   0  0  0  0  0  0  0  0  0  0  0  0\\n    5.3756    1.1793   -0.1060 C   0  0  0  0  0  0  0  0  0  0  0  0\\n    6.5613    0.4909   -0.6395 C   0  0  0  0  0  0  0  0  0  0  0  0\\n    7.3740   -0.2916    0.1968 C   0  0  0  0  0  0  0  0  0  0  0  0\\n    8.5023   -0.9410   -0.3089 C   0  0  0  0  0  0  0  0  0  0  0  0\\n    8.8337   -0.8136   -1.6569 C   0  0  0  0  0  0  0  0  0  0  0  0\\n    8.0399   -0.0366   -2.4995 C   0  0  0  0  0  0  0  0  0  0  0  0\\n    6.9118    0.6130   -1.9935 C   0  0  0  0  0  0  0  0  0  0  0  0\\n    5.4709    2.5580    0.1593 C   0  0  0  0  0  0  0  0  0  0  0  0\\n    4.3946    3.2684    0.6819 C   0  0  0  0  0  0  0  0  0  0  0  0\\n    3.2048    2.6072    0.9643 C   0  0  0  0  0  0  0  0  0  0  0  0\\n   -0.6129   -0.5296    1.3018 N   0  0  0  0  0  0  0  0  0  0  0  0\\n   -1.8406   -1.0867    1.4260 C   0  0  0  0  0  0  0  0  0  0  0  0\\n   -2.2233   -1.5753    2.6598 O   0  0  0  0  0  0  0  0  0  0  0  0\\n   -1.2673   -1.3378    3.6881 C   0  0  0  0  0  0  0  0  0  0  0  0\\n   -8.5023   -0.5585   -1.6607 O   0  0  0  0  0  0  0  0  0  0  0  0\\n   -8.7729    1.8468   -2.7387 H   0  0  0  0  0  0  0  0  0  0  0  0\\n   -7.0327    1.4680   -2.9117 H   0  0  0  0  0  0  0  0  0  0  0  0\\n   -7.5918    2.5883   -1.6443 H   0  0  0  0  0  0  0  0  0  0  0  0\\n   -6.9770    1.5234    0.1983 H   0  0  0  0  0  0  0  0  0  0  0  0\\n   -8.5476   -0.8222    0.9798 H   0  0  0  0  0  0  0  0  0  0  0  0\\n   -7.4299    0.1378    1.9703 H   0  0  0  0  0  0  0  0  0  0  0  0\\n   -6.5130   -2.1236    1.6287 H   0  0  0  0  0  0  0  0  0  0  0  0\\n   -6.6827   -1.9798   -0.1304 H   0  0  0  0  0  0  0  0  0  0  0  0\\n   -5.1290   -0.2003   -0.1199 H   0  0  0  0  0  0  0  0  0  0  0  0\\n   -4.3190   -2.4591   -0.3341 H   0  0  0  0  0  0  0  0  0  0  0  0\\n   -4.1150   -2.5135    1.4075 H   0  0  0  0  0  0  0  0  0  0  0  0\\n   -3.0133   -0.7995   -1.7363 H   0  0  0  0  0  0  0  0  0  0  0  0\\n   -0.7627    0.2344   -1.9871 H   0  0  0  0  0  0  0  0  0  0  0  0\\n    1.2373    1.1658    1.8397 H   0  0  0  0  0  0  0  0  0  0  0  0\\n    1.9313   -0.4295    1.4867 H   0  0  0  0  0  0  0  0  0  0  0  0\\n    4.6779   -1.3019   -0.9334 H   0  0  0  0  0  0  0  0  0  0  0  0\\n    4.2458   -1.5436    0.7769 H   0  0  0  0  0  0  0  0  0  0  0  0\\n    3.0048   -1.2223   -0.4631 H   0  0  0  0  0  0  0  0  0  0  0  0\\n    7.1273   -0.3955    1.2517 H   0  0  0  0  0  0  0  0  0  0  0  0\\n    9.1217   -1.5444    0.3504 H   0  0  0  0  0  0  0  0  0  0  0  0\\n    9.7116   -1.3193   -2.0504 H   0  0  0  0  0  0  0  0  0  0  0  0\\n    8.2973    0.0642   -3.5508 H   0  0  0  0  0  0  0  0  0  0  0  0\\n    6.2977    1.2145   -2.6616 H   0  0  0  0  0  0  0  0  0  0  0  0\\n    6.4024    3.0847   -0.0416 H   0  0  0  0  0  0  0  0  0  0  0  0\\n    4.4872    4.3340    0.8749 H   0  0  0  0  0  0  0  0  0  0  0  0\\n    2.3719    3.1749    1.3752 H   0  0  0  0  0  0  0  0  0  0  0  0\\n   -1.6785   -1.7300    4.6229 H   0  0  0  0  0  0  0  0  0  0  0  0\\n   -1.0906   -0.2653    3.8282 H   0  0  0  0  0  0  0  0  0  0  0  0\\n   -0.3298   -1.8691    3.4881 H   0  0  0  0  0  0  0  0  0  0  0  0\\n  1  2  1  0\\n  2  3  1  0\\n  3  4  1  0\\n  4  5  1  0\\n  5  6  1  0\\n  6  7  1  0\\n  7  8  1  0\\n  8  9  2  0\\n  9 10  1  0\\n 10 11  2  0\\n 11 12  1  0\\n 12 13  1  0\\n 13 14  1  0\\n 14 15  2  0\\n 15 16  1  0\\n 15 17  1  0\\n 17 18  1  0\\n 18 19  2  0\\n 19 20  1  0\\n 20 21  2  0\\n 21 22  1  0\\n 22 23  2  0\\n 17 24  2  0\\n 24 25  1  0\\n 25 26  2  0\\n 11 27  1  0\\n 27 28  2  0\\n 28 29  1  0\\n 29 30  1  0\\n  2 31  2  0\\n 28  8  1  0\\n 26 14  1  0\\n 23 18  1  0\\n  1 32  1  0\\n  1 33  1  0\\n  1 34  1  0\\n  3 35  1  0\\n  4 36  1  0\\n  4 37  1  0\\n  5 38  1  0\\n  5 39  1  0\\n  6 40  1  0\\n  7 41  1  0\\n  7 42  1  0\\n  9 43  1  0\\n 10 44  1  0\\n 13 45  1  0\\n 13 46  1  0\\n 16 47  1  0\\n 16 48  1  0\\n 16 49  1  0\\n 19 50  1  0\\n 20 51  1  0\\n 21 52  1  0\\n 22 53  1  0\\n 23 54  1  0\\n 24 55  1  0\\n 25 56  1  0\\n 26 57  1  0\\n 30 58  1  0\\n 30 59  1  0\\n 30 60  1  0\\nM  END\\n\",\"mol\");\n",
              "\tviewer_16975293242126029.setStyle({\"sphere\": {}});\n",
              "\tviewer_16975293242126029.addSurface(3,{\"opacity\": 0.5});\n",
              "\tviewer_16975293242126029.zoomTo();\n",
              "viewer_16975293242126029.render();\n",
              "});\n",
              "</script>"
            ]
          },
          "metadata": {}
        },
        {
          "output_type": "display_data",
          "data": {
            "application/3dmoljs_load.v0": "<div id=\"3dmolviewer_16975293242171507\"  style=\"position: relative; width: 600px; height: 300px;\">\n        <p id=\"3dmolwarning_16975293242171507\" style=\"background-color:#ffcccc;color:black\">You appear to be running in JupyterLab (or JavaScript failed to load for some other reason).  You need to install the 3dmol extension: <br>\n        <tt>jupyter labextension install jupyterlab_3dmol</tt></p>\n        </div>\n<script>\n\nvar loadScriptAsync = function(uri){\n  return new Promise((resolve, reject) => {\n    //this is to ignore the existence of requirejs amd\n    var savedexports, savedmodule;\n    if (typeof exports !== 'undefined') savedexports = exports;\n    else exports = {}\n    if (typeof module !== 'undefined') savedmodule = module;\n    else module = {}\n\n    var tag = document.createElement('script');\n    tag.src = uri;\n    tag.async = true;\n    tag.onload = () => {\n        exports = savedexports;\n        module = savedmodule;\n        resolve();\n    };\n  var firstScriptTag = document.getElementsByTagName('script')[0];\n  firstScriptTag.parentNode.insertBefore(tag, firstScriptTag);\n});\n};\n\nif(typeof $3Dmolpromise === 'undefined') {\n$3Dmolpromise = null;\n  $3Dmolpromise = loadScriptAsync('https://cdnjs.cloudflare.com/ajax/libs/3Dmol/2.0.4/3Dmol-min.js');\n}\n\nvar viewer_16975293242171507 = null;\nvar warn = document.getElementById(\"3dmolwarning_16975293242171507\");\nif(warn) {\n    warn.parentNode.removeChild(warn);\n}\n$3Dmolpromise.then(function() {\nviewer_16975293242171507 = $3Dmol.createViewer(document.getElementById(\"3dmolviewer_16975293242171507\"),{backgroundColor:\"white\"});\nviewer_16975293242171507.zoomTo();\n\tviewer_16975293242171507.addModel(\"\\n     RDKit          3D\\n\\n 60 62  0  0  0  0  0  0  0  0999 V2000\\n   -7.8359    1.6776   -2.1998 C   0  0  0  0  0  0  0  0  0  0  0  0\\n   -8.0014    0.4956   -1.2829 C   0  0  0  0  0  0  0  0  0  0  0  0\\n   -7.5253    0.6989   -0.0096 N   0  0  0  0  0  0  0  0  0  0  0  0\\n   -7.5586   -0.3503    0.9972 C   0  0  0  0  0  0  0  0  0  0  0  0\\n   -6.4738   -1.4201    0.7886 C   0  0  0  0  0  0  0  0  0  0  0  0\\n   -5.1400   -0.8065    0.6992 N   0  0  0  0  0  0  0  0  0  0  0  0\\n   -4.1085   -1.8359    0.5453 C   0  0  0  0  0  0  0  0  0  0  0  0\\n   -2.7461   -1.2182    0.3724 C   0  0  0  0  0  0  0  0  0  0  0  0\\n   -2.3488   -0.7284   -0.8790 C   0  0  0  0  0  0  0  0  0  0  0  0\\n   -1.0936   -0.1495   -1.0289 C   0  0  0  0  0  0  0  0  0  0  0  0\\n   -0.2711   -0.0732    0.0809 C   0  0  0  0  0  0  0  0  0  0  0  0\\n    0.9631    0.5104   -0.1167 O   0  0  0  0  0  0  0  0  0  0  0  0\\n    1.7492    0.5701    1.0718 C   0  0  0  0  0  0  0  0  0  0  0  0\\n    3.0715    1.2277    0.7268 C   0  0  0  0  0  0  0  0  0  0  0  0\\n    4.1526    0.5085    0.1543 C   0  0  0  0  0  0  0  0  0  0  0  0\\n    4.0156   -0.9705   -0.1273 C   0  0  0  0  0  0  0  0  0  0  0  0\\n    5.3756    1.1793   -0.1060 C   0  0  0  0  0  0  0  0  0  0  0  0\\n    6.5613    0.4909   -0.6395 C   0  0  0  0  0  0  0  0  0  0  0  0\\n    7.3740   -0.2916    0.1968 C   0  0  0  0  0  0  0  0  0  0  0  0\\n    8.5023   -0.9410   -0.3089 C   0  0  0  0  0  0  0  0  0  0  0  0\\n    8.8337   -0.8136   -1.6569 C   0  0  0  0  0  0  0  0  0  0  0  0\\n    8.0399   -0.0366   -2.4995 C   0  0  0  0  0  0  0  0  0  0  0  0\\n    6.9118    0.6130   -1.9935 C   0  0  0  0  0  0  0  0  0  0  0  0\\n    5.4709    2.5580    0.1593 C   0  0  0  0  0  0  0  0  0  0  0  0\\n    4.3946    3.2684    0.6819 C   0  0  0  0  0  0  0  0  0  0  0  0\\n    3.2048    2.6072    0.9643 C   0  0  0  0  0  0  0  0  0  0  0  0\\n   -0.6129   -0.5296    1.3018 N   0  0  0  0  0  0  0  0  0  0  0  0\\n   -1.8406   -1.0867    1.4260 C   0  0  0  0  0  0  0  0  0  0  0  0\\n   -2.2233   -1.5753    2.6598 O   0  0  0  0  0  0  0  0  0  0  0  0\\n   -1.2673   -1.3378    3.6881 C   0  0  0  0  0  0  0  0  0  0  0  0\\n   -8.5023   -0.5585   -1.6607 O   0  0  0  0  0  0  0  0  0  0  0  0\\n   -8.7729    1.8468   -2.7387 H   0  0  0  0  0  0  0  0  0  0  0  0\\n   -7.0327    1.4680   -2.9117 H   0  0  0  0  0  0  0  0  0  0  0  0\\n   -7.5918    2.5883   -1.6443 H   0  0  0  0  0  0  0  0  0  0  0  0\\n   -6.9770    1.5234    0.1983 H   0  0  0  0  0  0  0  0  0  0  0  0\\n   -8.5476   -0.8222    0.9798 H   0  0  0  0  0  0  0  0  0  0  0  0\\n   -7.4299    0.1378    1.9703 H   0  0  0  0  0  0  0  0  0  0  0  0\\n   -6.5130   -2.1236    1.6287 H   0  0  0  0  0  0  0  0  0  0  0  0\\n   -6.6827   -1.9798   -0.1304 H   0  0  0  0  0  0  0  0  0  0  0  0\\n   -5.1290   -0.2003   -0.1199 H   0  0  0  0  0  0  0  0  0  0  0  0\\n   -4.3190   -2.4591   -0.3341 H   0  0  0  0  0  0  0  0  0  0  0  0\\n   -4.1150   -2.5135    1.4075 H   0  0  0  0  0  0  0  0  0  0  0  0\\n   -3.0133   -0.7995   -1.7363 H   0  0  0  0  0  0  0  0  0  0  0  0\\n   -0.7627    0.2344   -1.9871 H   0  0  0  0  0  0  0  0  0  0  0  0\\n    1.2373    1.1658    1.8397 H   0  0  0  0  0  0  0  0  0  0  0  0\\n    1.9313   -0.4295    1.4867 H   0  0  0  0  0  0  0  0  0  0  0  0\\n    4.6779   -1.3019   -0.9334 H   0  0  0  0  0  0  0  0  0  0  0  0\\n    4.2458   -1.5436    0.7769 H   0  0  0  0  0  0  0  0  0  0  0  0\\n    3.0048   -1.2223   -0.4631 H   0  0  0  0  0  0  0  0  0  0  0  0\\n    7.1273   -0.3955    1.2517 H   0  0  0  0  0  0  0  0  0  0  0  0\\n    9.1217   -1.5444    0.3504 H   0  0  0  0  0  0  0  0  0  0  0  0\\n    9.7116   -1.3193   -2.0504 H   0  0  0  0  0  0  0  0  0  0  0  0\\n    8.2973    0.0642   -3.5508 H   0  0  0  0  0  0  0  0  0  0  0  0\\n    6.2977    1.2145   -2.6616 H   0  0  0  0  0  0  0  0  0  0  0  0\\n    6.4024    3.0847   -0.0416 H   0  0  0  0  0  0  0  0  0  0  0  0\\n    4.4872    4.3340    0.8749 H   0  0  0  0  0  0  0  0  0  0  0  0\\n    2.3719    3.1749    1.3752 H   0  0  0  0  0  0  0  0  0  0  0  0\\n   -1.6785   -1.7300    4.6229 H   0  0  0  0  0  0  0  0  0  0  0  0\\n   -1.0906   -0.2653    3.8282 H   0  0  0  0  0  0  0  0  0  0  0  0\\n   -0.3298   -1.8691    3.4881 H   0  0  0  0  0  0  0  0  0  0  0  0\\n  1  2  1  0\\n  2  3  1  0\\n  3  4  1  0\\n  4  5  1  0\\n  5  6  1  0\\n  6  7  1  0\\n  7  8  1  0\\n  8  9  2  0\\n  9 10  1  0\\n 10 11  2  0\\n 11 12  1  0\\n 12 13  1  0\\n 13 14  1  0\\n 14 15  2  0\\n 15 16  1  0\\n 15 17  1  0\\n 17 18  1  0\\n 18 19  2  0\\n 19 20  1  0\\n 20 21  2  0\\n 21 22  1  0\\n 22 23  2  0\\n 17 24  2  0\\n 24 25  1  0\\n 25 26  2  0\\n 11 27  1  0\\n 27 28  2  0\\n 28 29  1  0\\n 29 30  1  0\\n  2 31  2  0\\n 28  8  1  0\\n 26 14  1  0\\n 23 18  1  0\\n  1 32  1  0\\n  1 33  1  0\\n  1 34  1  0\\n  3 35  1  0\\n  4 36  1  0\\n  4 37  1  0\\n  5 38  1  0\\n  5 39  1  0\\n  6 40  1  0\\n  7 41  1  0\\n  7 42  1  0\\n  9 43  1  0\\n 10 44  1  0\\n 13 45  1  0\\n 13 46  1  0\\n 16 47  1  0\\n 16 48  1  0\\n 16 49  1  0\\n 19 50  1  0\\n 20 51  1  0\\n 21 52  1  0\\n 22 53  1  0\\n 23 54  1  0\\n 24 55  1  0\\n 25 56  1  0\\n 26 57  1  0\\n 30 58  1  0\\n 30 59  1  0\\n 30 60  1  0\\nM  END\\n\",\"mol\");\n\tviewer_16975293242171507.setStyle({\"stick\": {}});\n\tviewer_16975293242171507.zoomTo();\nviewer_16975293242171507.render();\n});\n</script>",
            "text/html": [
              "<div id=\"3dmolviewer_16975293242171507\"  style=\"position: relative; width: 600px; height: 300px;\">\n",
              "        <p id=\"3dmolwarning_16975293242171507\" style=\"background-color:#ffcccc;color:black\">You appear to be running in JupyterLab (or JavaScript failed to load for some other reason).  You need to install the 3dmol extension: <br>\n",
              "        <tt>jupyter labextension install jupyterlab_3dmol</tt></p>\n",
              "        </div>\n",
              "<script>\n",
              "\n",
              "var loadScriptAsync = function(uri){\n",
              "  return new Promise((resolve, reject) => {\n",
              "    //this is to ignore the existence of requirejs amd\n",
              "    var savedexports, savedmodule;\n",
              "    if (typeof exports !== 'undefined') savedexports = exports;\n",
              "    else exports = {}\n",
              "    if (typeof module !== 'undefined') savedmodule = module;\n",
              "    else module = {}\n",
              "\n",
              "    var tag = document.createElement('script');\n",
              "    tag.src = uri;\n",
              "    tag.async = true;\n",
              "    tag.onload = () => {\n",
              "        exports = savedexports;\n",
              "        module = savedmodule;\n",
              "        resolve();\n",
              "    };\n",
              "  var firstScriptTag = document.getElementsByTagName('script')[0];\n",
              "  firstScriptTag.parentNode.insertBefore(tag, firstScriptTag);\n",
              "});\n",
              "};\n",
              "\n",
              "if(typeof $3Dmolpromise === 'undefined') {\n",
              "$3Dmolpromise = null;\n",
              "  $3Dmolpromise = loadScriptAsync('https://cdnjs.cloudflare.com/ajax/libs/3Dmol/2.0.4/3Dmol-min.js');\n",
              "}\n",
              "\n",
              "var viewer_16975293242171507 = null;\n",
              "var warn = document.getElementById(\"3dmolwarning_16975293242171507\");\n",
              "if(warn) {\n",
              "    warn.parentNode.removeChild(warn);\n",
              "}\n",
              "$3Dmolpromise.then(function() {\n",
              "viewer_16975293242171507 = $3Dmol.createViewer(document.getElementById(\"3dmolviewer_16975293242171507\"),{backgroundColor:\"white\"});\n",
              "viewer_16975293242171507.zoomTo();\n",
              "\tviewer_16975293242171507.addModel(\"\\n     RDKit          3D\\n\\n 60 62  0  0  0  0  0  0  0  0999 V2000\\n   -7.8359    1.6776   -2.1998 C   0  0  0  0  0  0  0  0  0  0  0  0\\n   -8.0014    0.4956   -1.2829 C   0  0  0  0  0  0  0  0  0  0  0  0\\n   -7.5253    0.6989   -0.0096 N   0  0  0  0  0  0  0  0  0  0  0  0\\n   -7.5586   -0.3503    0.9972 C   0  0  0  0  0  0  0  0  0  0  0  0\\n   -6.4738   -1.4201    0.7886 C   0  0  0  0  0  0  0  0  0  0  0  0\\n   -5.1400   -0.8065    0.6992 N   0  0  0  0  0  0  0  0  0  0  0  0\\n   -4.1085   -1.8359    0.5453 C   0  0  0  0  0  0  0  0  0  0  0  0\\n   -2.7461   -1.2182    0.3724 C   0  0  0  0  0  0  0  0  0  0  0  0\\n   -2.3488   -0.7284   -0.8790 C   0  0  0  0  0  0  0  0  0  0  0  0\\n   -1.0936   -0.1495   -1.0289 C   0  0  0  0  0  0  0  0  0  0  0  0\\n   -0.2711   -0.0732    0.0809 C   0  0  0  0  0  0  0  0  0  0  0  0\\n    0.9631    0.5104   -0.1167 O   0  0  0  0  0  0  0  0  0  0  0  0\\n    1.7492    0.5701    1.0718 C   0  0  0  0  0  0  0  0  0  0  0  0\\n    3.0715    1.2277    0.7268 C   0  0  0  0  0  0  0  0  0  0  0  0\\n    4.1526    0.5085    0.1543 C   0  0  0  0  0  0  0  0  0  0  0  0\\n    4.0156   -0.9705   -0.1273 C   0  0  0  0  0  0  0  0  0  0  0  0\\n    5.3756    1.1793   -0.1060 C   0  0  0  0  0  0  0  0  0  0  0  0\\n    6.5613    0.4909   -0.6395 C   0  0  0  0  0  0  0  0  0  0  0  0\\n    7.3740   -0.2916    0.1968 C   0  0  0  0  0  0  0  0  0  0  0  0\\n    8.5023   -0.9410   -0.3089 C   0  0  0  0  0  0  0  0  0  0  0  0\\n    8.8337   -0.8136   -1.6569 C   0  0  0  0  0  0  0  0  0  0  0  0\\n    8.0399   -0.0366   -2.4995 C   0  0  0  0  0  0  0  0  0  0  0  0\\n    6.9118    0.6130   -1.9935 C   0  0  0  0  0  0  0  0  0  0  0  0\\n    5.4709    2.5580    0.1593 C   0  0  0  0  0  0  0  0  0  0  0  0\\n    4.3946    3.2684    0.6819 C   0  0  0  0  0  0  0  0  0  0  0  0\\n    3.2048    2.6072    0.9643 C   0  0  0  0  0  0  0  0  0  0  0  0\\n   -0.6129   -0.5296    1.3018 N   0  0  0  0  0  0  0  0  0  0  0  0\\n   -1.8406   -1.0867    1.4260 C   0  0  0  0  0  0  0  0  0  0  0  0\\n   -2.2233   -1.5753    2.6598 O   0  0  0  0  0  0  0  0  0  0  0  0\\n   -1.2673   -1.3378    3.6881 C   0  0  0  0  0  0  0  0  0  0  0  0\\n   -8.5023   -0.5585   -1.6607 O   0  0  0  0  0  0  0  0  0  0  0  0\\n   -8.7729    1.8468   -2.7387 H   0  0  0  0  0  0  0  0  0  0  0  0\\n   -7.0327    1.4680   -2.9117 H   0  0  0  0  0  0  0  0  0  0  0  0\\n   -7.5918    2.5883   -1.6443 H   0  0  0  0  0  0  0  0  0  0  0  0\\n   -6.9770    1.5234    0.1983 H   0  0  0  0  0  0  0  0  0  0  0  0\\n   -8.5476   -0.8222    0.9798 H   0  0  0  0  0  0  0  0  0  0  0  0\\n   -7.4299    0.1378    1.9703 H   0  0  0  0  0  0  0  0  0  0  0  0\\n   -6.5130   -2.1236    1.6287 H   0  0  0  0  0  0  0  0  0  0  0  0\\n   -6.6827   -1.9798   -0.1304 H   0  0  0  0  0  0  0  0  0  0  0  0\\n   -5.1290   -0.2003   -0.1199 H   0  0  0  0  0  0  0  0  0  0  0  0\\n   -4.3190   -2.4591   -0.3341 H   0  0  0  0  0  0  0  0  0  0  0  0\\n   -4.1150   -2.5135    1.4075 H   0  0  0  0  0  0  0  0  0  0  0  0\\n   -3.0133   -0.7995   -1.7363 H   0  0  0  0  0  0  0  0  0  0  0  0\\n   -0.7627    0.2344   -1.9871 H   0  0  0  0  0  0  0  0  0  0  0  0\\n    1.2373    1.1658    1.8397 H   0  0  0  0  0  0  0  0  0  0  0  0\\n    1.9313   -0.4295    1.4867 H   0  0  0  0  0  0  0  0  0  0  0  0\\n    4.6779   -1.3019   -0.9334 H   0  0  0  0  0  0  0  0  0  0  0  0\\n    4.2458   -1.5436    0.7769 H   0  0  0  0  0  0  0  0  0  0  0  0\\n    3.0048   -1.2223   -0.4631 H   0  0  0  0  0  0  0  0  0  0  0  0\\n    7.1273   -0.3955    1.2517 H   0  0  0  0  0  0  0  0  0  0  0  0\\n    9.1217   -1.5444    0.3504 H   0  0  0  0  0  0  0  0  0  0  0  0\\n    9.7116   -1.3193   -2.0504 H   0  0  0  0  0  0  0  0  0  0  0  0\\n    8.2973    0.0642   -3.5508 H   0  0  0  0  0  0  0  0  0  0  0  0\\n    6.2977    1.2145   -2.6616 H   0  0  0  0  0  0  0  0  0  0  0  0\\n    6.4024    3.0847   -0.0416 H   0  0  0  0  0  0  0  0  0  0  0  0\\n    4.4872    4.3340    0.8749 H   0  0  0  0  0  0  0  0  0  0  0  0\\n    2.3719    3.1749    1.3752 H   0  0  0  0  0  0  0  0  0  0  0  0\\n   -1.6785   -1.7300    4.6229 H   0  0  0  0  0  0  0  0  0  0  0  0\\n   -1.0906   -0.2653    3.8282 H   0  0  0  0  0  0  0  0  0  0  0  0\\n   -0.3298   -1.8691    3.4881 H   0  0  0  0  0  0  0  0  0  0  0  0\\n  1  2  1  0\\n  2  3  1  0\\n  3  4  1  0\\n  4  5  1  0\\n  5  6  1  0\\n  6  7  1  0\\n  7  8  1  0\\n  8  9  2  0\\n  9 10  1  0\\n 10 11  2  0\\n 11 12  1  0\\n 12 13  1  0\\n 13 14  1  0\\n 14 15  2  0\\n 15 16  1  0\\n 15 17  1  0\\n 17 18  1  0\\n 18 19  2  0\\n 19 20  1  0\\n 20 21  2  0\\n 21 22  1  0\\n 22 23  2  0\\n 17 24  2  0\\n 24 25  1  0\\n 25 26  2  0\\n 11 27  1  0\\n 27 28  2  0\\n 28 29  1  0\\n 29 30  1  0\\n  2 31  2  0\\n 28  8  1  0\\n 26 14  1  0\\n 23 18  1  0\\n  1 32  1  0\\n  1 33  1  0\\n  1 34  1  0\\n  3 35  1  0\\n  4 36  1  0\\n  4 37  1  0\\n  5 38  1  0\\n  5 39  1  0\\n  6 40  1  0\\n  7 41  1  0\\n  7 42  1  0\\n  9 43  1  0\\n 10 44  1  0\\n 13 45  1  0\\n 13 46  1  0\\n 16 47  1  0\\n 16 48  1  0\\n 16 49  1  0\\n 19 50  1  0\\n 20 51  1  0\\n 21 52  1  0\\n 22 53  1  0\\n 23 54  1  0\\n 24 55  1  0\\n 25 56  1  0\\n 26 57  1  0\\n 30 58  1  0\\n 30 59  1  0\\n 30 60  1  0\\nM  END\\n\",\"mol\");\n",
              "\tviewer_16975293242171507.setStyle({\"stick\": {}});\n",
              "\tviewer_16975293242171507.zoomTo();\n",
              "viewer_16975293242171507.render();\n",
              "});\n",
              "</script>"
            ]
          },
          "metadata": {}
        },
        {
          "output_type": "display_data",
          "data": {
            "application/3dmoljs_load.v0": "<div id=\"3dmolviewer_16975293242206461\"  style=\"position: relative; width: 600px; height: 300px;\">\n        <p id=\"3dmolwarning_16975293242206461\" style=\"background-color:#ffcccc;color:black\">You appear to be running in JupyterLab (or JavaScript failed to load for some other reason).  You need to install the 3dmol extension: <br>\n        <tt>jupyter labextension install jupyterlab_3dmol</tt></p>\n        </div>\n<script>\n\nvar loadScriptAsync = function(uri){\n  return new Promise((resolve, reject) => {\n    //this is to ignore the existence of requirejs amd\n    var savedexports, savedmodule;\n    if (typeof exports !== 'undefined') savedexports = exports;\n    else exports = {}\n    if (typeof module !== 'undefined') savedmodule = module;\n    else module = {}\n\n    var tag = document.createElement('script');\n    tag.src = uri;\n    tag.async = true;\n    tag.onload = () => {\n        exports = savedexports;\n        module = savedmodule;\n        resolve();\n    };\n  var firstScriptTag = document.getElementsByTagName('script')[0];\n  firstScriptTag.parentNode.insertBefore(tag, firstScriptTag);\n});\n};\n\nif(typeof $3Dmolpromise === 'undefined') {\n$3Dmolpromise = null;\n  $3Dmolpromise = loadScriptAsync('https://cdnjs.cloudflare.com/ajax/libs/3Dmol/2.0.4/3Dmol-min.js');\n}\n\nvar viewer_16975293242206461 = null;\nvar warn = document.getElementById(\"3dmolwarning_16975293242206461\");\nif(warn) {\n    warn.parentNode.removeChild(warn);\n}\n$3Dmolpromise.then(function() {\nviewer_16975293242206461 = $3Dmol.createViewer(document.getElementById(\"3dmolviewer_16975293242206461\"),{backgroundColor:\"white\"});\nviewer_16975293242206461.zoomTo();\n\tviewer_16975293242206461.addModel(\"\\n     RDKit          3D\\n\\n 60 62  0  0  0  0  0  0  0  0999 V2000\\n   -7.8359    1.6776   -2.1998 C   0  0  0  0  0  0  0  0  0  0  0  0\\n   -8.0014    0.4956   -1.2829 C   0  0  0  0  0  0  0  0  0  0  0  0\\n   -7.5253    0.6989   -0.0096 N   0  0  0  0  0  0  0  0  0  0  0  0\\n   -7.5586   -0.3503    0.9972 C   0  0  0  0  0  0  0  0  0  0  0  0\\n   -6.4738   -1.4201    0.7886 C   0  0  0  0  0  0  0  0  0  0  0  0\\n   -5.1400   -0.8065    0.6992 N   0  0  0  0  0  0  0  0  0  0  0  0\\n   -4.1085   -1.8359    0.5453 C   0  0  0  0  0  0  0  0  0  0  0  0\\n   -2.7461   -1.2182    0.3724 C   0  0  0  0  0  0  0  0  0  0  0  0\\n   -2.3488   -0.7284   -0.8790 C   0  0  0  0  0  0  0  0  0  0  0  0\\n   -1.0936   -0.1495   -1.0289 C   0  0  0  0  0  0  0  0  0  0  0  0\\n   -0.2711   -0.0732    0.0809 C   0  0  0  0  0  0  0  0  0  0  0  0\\n    0.9631    0.5104   -0.1167 O   0  0  0  0  0  0  0  0  0  0  0  0\\n    1.7492    0.5701    1.0718 C   0  0  0  0  0  0  0  0  0  0  0  0\\n    3.0715    1.2277    0.7268 C   0  0  0  0  0  0  0  0  0  0  0  0\\n    4.1526    0.5085    0.1543 C   0  0  0  0  0  0  0  0  0  0  0  0\\n    4.0156   -0.9705   -0.1273 C   0  0  0  0  0  0  0  0  0  0  0  0\\n    5.3756    1.1793   -0.1060 C   0  0  0  0  0  0  0  0  0  0  0  0\\n    6.5613    0.4909   -0.6395 C   0  0  0  0  0  0  0  0  0  0  0  0\\n    7.3740   -0.2916    0.1968 C   0  0  0  0  0  0  0  0  0  0  0  0\\n    8.5023   -0.9410   -0.3089 C   0  0  0  0  0  0  0  0  0  0  0  0\\n    8.8337   -0.8136   -1.6569 C   0  0  0  0  0  0  0  0  0  0  0  0\\n    8.0399   -0.0366   -2.4995 C   0  0  0  0  0  0  0  0  0  0  0  0\\n    6.9118    0.6130   -1.9935 C   0  0  0  0  0  0  0  0  0  0  0  0\\n    5.4709    2.5580    0.1593 C   0  0  0  0  0  0  0  0  0  0  0  0\\n    4.3946    3.2684    0.6819 C   0  0  0  0  0  0  0  0  0  0  0  0\\n    3.2048    2.6072    0.9643 C   0  0  0  0  0  0  0  0  0  0  0  0\\n   -0.6129   -0.5296    1.3018 N   0  0  0  0  0  0  0  0  0  0  0  0\\n   -1.8406   -1.0867    1.4260 C   0  0  0  0  0  0  0  0  0  0  0  0\\n   -2.2233   -1.5753    2.6598 O   0  0  0  0  0  0  0  0  0  0  0  0\\n   -1.2673   -1.3378    3.6881 C   0  0  0  0  0  0  0  0  0  0  0  0\\n   -8.5023   -0.5585   -1.6607 O   0  0  0  0  0  0  0  0  0  0  0  0\\n   -8.7729    1.8468   -2.7387 H   0  0  0  0  0  0  0  0  0  0  0  0\\n   -7.0327    1.4680   -2.9117 H   0  0  0  0  0  0  0  0  0  0  0  0\\n   -7.5918    2.5883   -1.6443 H   0  0  0  0  0  0  0  0  0  0  0  0\\n   -6.9770    1.5234    0.1983 H   0  0  0  0  0  0  0  0  0  0  0  0\\n   -8.5476   -0.8222    0.9798 H   0  0  0  0  0  0  0  0  0  0  0  0\\n   -7.4299    0.1378    1.9703 H   0  0  0  0  0  0  0  0  0  0  0  0\\n   -6.5130   -2.1236    1.6287 H   0  0  0  0  0  0  0  0  0  0  0  0\\n   -6.6827   -1.9798   -0.1304 H   0  0  0  0  0  0  0  0  0  0  0  0\\n   -5.1290   -0.2003   -0.1199 H   0  0  0  0  0  0  0  0  0  0  0  0\\n   -4.3190   -2.4591   -0.3341 H   0  0  0  0  0  0  0  0  0  0  0  0\\n   -4.1150   -2.5135    1.4075 H   0  0  0  0  0  0  0  0  0  0  0  0\\n   -3.0133   -0.7995   -1.7363 H   0  0  0  0  0  0  0  0  0  0  0  0\\n   -0.7627    0.2344   -1.9871 H   0  0  0  0  0  0  0  0  0  0  0  0\\n    1.2373    1.1658    1.8397 H   0  0  0  0  0  0  0  0  0  0  0  0\\n    1.9313   -0.4295    1.4867 H   0  0  0  0  0  0  0  0  0  0  0  0\\n    4.6779   -1.3019   -0.9334 H   0  0  0  0  0  0  0  0  0  0  0  0\\n    4.2458   -1.5436    0.7769 H   0  0  0  0  0  0  0  0  0  0  0  0\\n    3.0048   -1.2223   -0.4631 H   0  0  0  0  0  0  0  0  0  0  0  0\\n    7.1273   -0.3955    1.2517 H   0  0  0  0  0  0  0  0  0  0  0  0\\n    9.1217   -1.5444    0.3504 H   0  0  0  0  0  0  0  0  0  0  0  0\\n    9.7116   -1.3193   -2.0504 H   0  0  0  0  0  0  0  0  0  0  0  0\\n    8.2973    0.0642   -3.5508 H   0  0  0  0  0  0  0  0  0  0  0  0\\n    6.2977    1.2145   -2.6616 H   0  0  0  0  0  0  0  0  0  0  0  0\\n    6.4024    3.0847   -0.0416 H   0  0  0  0  0  0  0  0  0  0  0  0\\n    4.4872    4.3340    0.8749 H   0  0  0  0  0  0  0  0  0  0  0  0\\n    2.3719    3.1749    1.3752 H   0  0  0  0  0  0  0  0  0  0  0  0\\n   -1.6785   -1.7300    4.6229 H   0  0  0  0  0  0  0  0  0  0  0  0\\n   -1.0906   -0.2653    3.8282 H   0  0  0  0  0  0  0  0  0  0  0  0\\n   -0.3298   -1.8691    3.4881 H   0  0  0  0  0  0  0  0  0  0  0  0\\n  1  2  1  0\\n  2  3  1  0\\n  3  4  1  0\\n  4  5  1  0\\n  5  6  1  0\\n  6  7  1  0\\n  7  8  1  0\\n  8  9  2  0\\n  9 10  1  0\\n 10 11  2  0\\n 11 12  1  0\\n 12 13  1  0\\n 13 14  1  0\\n 14 15  2  0\\n 15 16  1  0\\n 15 17  1  0\\n 17 18  1  0\\n 18 19  2  0\\n 19 20  1  0\\n 20 21  2  0\\n 21 22  1  0\\n 22 23  2  0\\n 17 24  2  0\\n 24 25  1  0\\n 25 26  2  0\\n 11 27  1  0\\n 27 28  2  0\\n 28 29  1  0\\n 29 30  1  0\\n  2 31  2  0\\n 28  8  1  0\\n 26 14  1  0\\n 23 18  1  0\\n  1 32  1  0\\n  1 33  1  0\\n  1 34  1  0\\n  3 35  1  0\\n  4 36  1  0\\n  4 37  1  0\\n  5 38  1  0\\n  5 39  1  0\\n  6 40  1  0\\n  7 41  1  0\\n  7 42  1  0\\n  9 43  1  0\\n 10 44  1  0\\n 13 45  1  0\\n 13 46  1  0\\n 16 47  1  0\\n 16 48  1  0\\n 16 49  1  0\\n 19 50  1  0\\n 20 51  1  0\\n 21 52  1  0\\n 22 53  1  0\\n 23 54  1  0\\n 24 55  1  0\\n 25 56  1  0\\n 26 57  1  0\\n 30 58  1  0\\n 30 59  1  0\\n 30 60  1  0\\nM  END\\n\",\"mol\");\n\tviewer_16975293242206461.setStyle({\"line\": {}});\n\tviewer_16975293242206461.zoomTo();\nviewer_16975293242206461.render();\n});\n</script>",
            "text/html": [
              "<div id=\"3dmolviewer_16975293242206461\"  style=\"position: relative; width: 600px; height: 300px;\">\n",
              "        <p id=\"3dmolwarning_16975293242206461\" style=\"background-color:#ffcccc;color:black\">You appear to be running in JupyterLab (or JavaScript failed to load for some other reason).  You need to install the 3dmol extension: <br>\n",
              "        <tt>jupyter labextension install jupyterlab_3dmol</tt></p>\n",
              "        </div>\n",
              "<script>\n",
              "\n",
              "var loadScriptAsync = function(uri){\n",
              "  return new Promise((resolve, reject) => {\n",
              "    //this is to ignore the existence of requirejs amd\n",
              "    var savedexports, savedmodule;\n",
              "    if (typeof exports !== 'undefined') savedexports = exports;\n",
              "    else exports = {}\n",
              "    if (typeof module !== 'undefined') savedmodule = module;\n",
              "    else module = {}\n",
              "\n",
              "    var tag = document.createElement('script');\n",
              "    tag.src = uri;\n",
              "    tag.async = true;\n",
              "    tag.onload = () => {\n",
              "        exports = savedexports;\n",
              "        module = savedmodule;\n",
              "        resolve();\n",
              "    };\n",
              "  var firstScriptTag = document.getElementsByTagName('script')[0];\n",
              "  firstScriptTag.parentNode.insertBefore(tag, firstScriptTag);\n",
              "});\n",
              "};\n",
              "\n",
              "if(typeof $3Dmolpromise === 'undefined') {\n",
              "$3Dmolpromise = null;\n",
              "  $3Dmolpromise = loadScriptAsync('https://cdnjs.cloudflare.com/ajax/libs/3Dmol/2.0.4/3Dmol-min.js');\n",
              "}\n",
              "\n",
              "var viewer_16975293242206461 = null;\n",
              "var warn = document.getElementById(\"3dmolwarning_16975293242206461\");\n",
              "if(warn) {\n",
              "    warn.parentNode.removeChild(warn);\n",
              "}\n",
              "$3Dmolpromise.then(function() {\n",
              "viewer_16975293242206461 = $3Dmol.createViewer(document.getElementById(\"3dmolviewer_16975293242206461\"),{backgroundColor:\"white\"});\n",
              "viewer_16975293242206461.zoomTo();\n",
              "\tviewer_16975293242206461.addModel(\"\\n     RDKit          3D\\n\\n 60 62  0  0  0  0  0  0  0  0999 V2000\\n   -7.8359    1.6776   -2.1998 C   0  0  0  0  0  0  0  0  0  0  0  0\\n   -8.0014    0.4956   -1.2829 C   0  0  0  0  0  0  0  0  0  0  0  0\\n   -7.5253    0.6989   -0.0096 N   0  0  0  0  0  0  0  0  0  0  0  0\\n   -7.5586   -0.3503    0.9972 C   0  0  0  0  0  0  0  0  0  0  0  0\\n   -6.4738   -1.4201    0.7886 C   0  0  0  0  0  0  0  0  0  0  0  0\\n   -5.1400   -0.8065    0.6992 N   0  0  0  0  0  0  0  0  0  0  0  0\\n   -4.1085   -1.8359    0.5453 C   0  0  0  0  0  0  0  0  0  0  0  0\\n   -2.7461   -1.2182    0.3724 C   0  0  0  0  0  0  0  0  0  0  0  0\\n   -2.3488   -0.7284   -0.8790 C   0  0  0  0  0  0  0  0  0  0  0  0\\n   -1.0936   -0.1495   -1.0289 C   0  0  0  0  0  0  0  0  0  0  0  0\\n   -0.2711   -0.0732    0.0809 C   0  0  0  0  0  0  0  0  0  0  0  0\\n    0.9631    0.5104   -0.1167 O   0  0  0  0  0  0  0  0  0  0  0  0\\n    1.7492    0.5701    1.0718 C   0  0  0  0  0  0  0  0  0  0  0  0\\n    3.0715    1.2277    0.7268 C   0  0  0  0  0  0  0  0  0  0  0  0\\n    4.1526    0.5085    0.1543 C   0  0  0  0  0  0  0  0  0  0  0  0\\n    4.0156   -0.9705   -0.1273 C   0  0  0  0  0  0  0  0  0  0  0  0\\n    5.3756    1.1793   -0.1060 C   0  0  0  0  0  0  0  0  0  0  0  0\\n    6.5613    0.4909   -0.6395 C   0  0  0  0  0  0  0  0  0  0  0  0\\n    7.3740   -0.2916    0.1968 C   0  0  0  0  0  0  0  0  0  0  0  0\\n    8.5023   -0.9410   -0.3089 C   0  0  0  0  0  0  0  0  0  0  0  0\\n    8.8337   -0.8136   -1.6569 C   0  0  0  0  0  0  0  0  0  0  0  0\\n    8.0399   -0.0366   -2.4995 C   0  0  0  0  0  0  0  0  0  0  0  0\\n    6.9118    0.6130   -1.9935 C   0  0  0  0  0  0  0  0  0  0  0  0\\n    5.4709    2.5580    0.1593 C   0  0  0  0  0  0  0  0  0  0  0  0\\n    4.3946    3.2684    0.6819 C   0  0  0  0  0  0  0  0  0  0  0  0\\n    3.2048    2.6072    0.9643 C   0  0  0  0  0  0  0  0  0  0  0  0\\n   -0.6129   -0.5296    1.3018 N   0  0  0  0  0  0  0  0  0  0  0  0\\n   -1.8406   -1.0867    1.4260 C   0  0  0  0  0  0  0  0  0  0  0  0\\n   -2.2233   -1.5753    2.6598 O   0  0  0  0  0  0  0  0  0  0  0  0\\n   -1.2673   -1.3378    3.6881 C   0  0  0  0  0  0  0  0  0  0  0  0\\n   -8.5023   -0.5585   -1.6607 O   0  0  0  0  0  0  0  0  0  0  0  0\\n   -8.7729    1.8468   -2.7387 H   0  0  0  0  0  0  0  0  0  0  0  0\\n   -7.0327    1.4680   -2.9117 H   0  0  0  0  0  0  0  0  0  0  0  0\\n   -7.5918    2.5883   -1.6443 H   0  0  0  0  0  0  0  0  0  0  0  0\\n   -6.9770    1.5234    0.1983 H   0  0  0  0  0  0  0  0  0  0  0  0\\n   -8.5476   -0.8222    0.9798 H   0  0  0  0  0  0  0  0  0  0  0  0\\n   -7.4299    0.1378    1.9703 H   0  0  0  0  0  0  0  0  0  0  0  0\\n   -6.5130   -2.1236    1.6287 H   0  0  0  0  0  0  0  0  0  0  0  0\\n   -6.6827   -1.9798   -0.1304 H   0  0  0  0  0  0  0  0  0  0  0  0\\n   -5.1290   -0.2003   -0.1199 H   0  0  0  0  0  0  0  0  0  0  0  0\\n   -4.3190   -2.4591   -0.3341 H   0  0  0  0  0  0  0  0  0  0  0  0\\n   -4.1150   -2.5135    1.4075 H   0  0  0  0  0  0  0  0  0  0  0  0\\n   -3.0133   -0.7995   -1.7363 H   0  0  0  0  0  0  0  0  0  0  0  0\\n   -0.7627    0.2344   -1.9871 H   0  0  0  0  0  0  0  0  0  0  0  0\\n    1.2373    1.1658    1.8397 H   0  0  0  0  0  0  0  0  0  0  0  0\\n    1.9313   -0.4295    1.4867 H   0  0  0  0  0  0  0  0  0  0  0  0\\n    4.6779   -1.3019   -0.9334 H   0  0  0  0  0  0  0  0  0  0  0  0\\n    4.2458   -1.5436    0.7769 H   0  0  0  0  0  0  0  0  0  0  0  0\\n    3.0048   -1.2223   -0.4631 H   0  0  0  0  0  0  0  0  0  0  0  0\\n    7.1273   -0.3955    1.2517 H   0  0  0  0  0  0  0  0  0  0  0  0\\n    9.1217   -1.5444    0.3504 H   0  0  0  0  0  0  0  0  0  0  0  0\\n    9.7116   -1.3193   -2.0504 H   0  0  0  0  0  0  0  0  0  0  0  0\\n    8.2973    0.0642   -3.5508 H   0  0  0  0  0  0  0  0  0  0  0  0\\n    6.2977    1.2145   -2.6616 H   0  0  0  0  0  0  0  0  0  0  0  0\\n    6.4024    3.0847   -0.0416 H   0  0  0  0  0  0  0  0  0  0  0  0\\n    4.4872    4.3340    0.8749 H   0  0  0  0  0  0  0  0  0  0  0  0\\n    2.3719    3.1749    1.3752 H   0  0  0  0  0  0  0  0  0  0  0  0\\n   -1.6785   -1.7300    4.6229 H   0  0  0  0  0  0  0  0  0  0  0  0\\n   -1.0906   -0.2653    3.8282 H   0  0  0  0  0  0  0  0  0  0  0  0\\n   -0.3298   -1.8691    3.4881 H   0  0  0  0  0  0  0  0  0  0  0  0\\n  1  2  1  0\\n  2  3  1  0\\n  3  4  1  0\\n  4  5  1  0\\n  5  6  1  0\\n  6  7  1  0\\n  7  8  1  0\\n  8  9  2  0\\n  9 10  1  0\\n 10 11  2  0\\n 11 12  1  0\\n 12 13  1  0\\n 13 14  1  0\\n 14 15  2  0\\n 15 16  1  0\\n 15 17  1  0\\n 17 18  1  0\\n 18 19  2  0\\n 19 20  1  0\\n 20 21  2  0\\n 21 22  1  0\\n 22 23  2  0\\n 17 24  2  0\\n 24 25  1  0\\n 25 26  2  0\\n 11 27  1  0\\n 27 28  2  0\\n 28 29  1  0\\n 29 30  1  0\\n  2 31  2  0\\n 28  8  1  0\\n 26 14  1  0\\n 23 18  1  0\\n  1 32  1  0\\n  1 33  1  0\\n  1 34  1  0\\n  3 35  1  0\\n  4 36  1  0\\n  4 37  1  0\\n  5 38  1  0\\n  5 39  1  0\\n  6 40  1  0\\n  7 41  1  0\\n  7 42  1  0\\n  9 43  1  0\\n 10 44  1  0\\n 13 45  1  0\\n 13 46  1  0\\n 16 47  1  0\\n 16 48  1  0\\n 16 49  1  0\\n 19 50  1  0\\n 20 51  1  0\\n 21 52  1  0\\n 22 53  1  0\\n 23 54  1  0\\n 24 55  1  0\\n 25 56  1  0\\n 26 57  1  0\\n 30 58  1  0\\n 30 59  1  0\\n 30 60  1  0\\nM  END\\n\",\"mol\");\n",
              "\tviewer_16975293242206461.setStyle({\"line\": {}});\n",
              "\tviewer_16975293242206461.zoomTo();\n",
              "viewer_16975293242206461.render();\n",
              "});\n",
              "</script>"
            ]
          },
          "metadata": {}
        }
      ]
    },
    {
      "cell_type": "code",
      "source": [
        "# smi를 input창에 입력하면 바로 3d 분자형을 확인할 수 있다.\n",
        "from ipywidgets import interact\n",
        "\n",
        "@interact\n",
        "def smi2viewer(smi='CCCCC'):\n",
        "    try:\n",
        "        conf = smi_to_conf(smi)\n",
        "        return mol_to_3d_view(conf).show()\n",
        "    except:\n",
        "        return None"
      ],
      "metadata": {
        "colab": {
          "base_uri": "https://localhost:8080/",
          "height": 350,
          "referenced_widgets": [
            "daff30bfece542cabfc6ca592aeee569",
            "08ca18c1f74143f484091afa79bdf508",
            "337c2fb6ea75422cb3cacb94470209d1",
            "528a2b9698fe46a4895c1b66bdb6458a",
            "ca417fa1c04b49619ec3db4b014b42a7",
            "21c04067f18e4d44947345e83856d8d0",
            "3254d2b9688e4f348d9e7e3a60f7a5af"
          ]
        },
        "id": "ALel--Jtnn_X",
        "outputId": "d5864995-a212-4f6d-dffd-b47a9b773e19"
      },
      "execution_count": 51,
      "outputs": [
        {
          "output_type": "display_data",
          "data": {
            "text/plain": [
              "interactive(children=(Text(value='CCCCC', description='smi'), Output()), _dom_classes=('widget-interact',))"
            ],
            "application/vnd.jupyter.widget-view+json": {
              "version_major": 2,
              "version_minor": 0,
              "model_id": "daff30bfece542cabfc6ca592aeee569"
            }
          },
          "metadata": {}
        }
      ]
    }
  ]
}